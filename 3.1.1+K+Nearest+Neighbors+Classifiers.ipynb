{
 "cells": [
  {
   "cell_type": "markdown",
   "metadata": {
    "run_control": {
     "frozen": false,
     "read_only": false
    }
   },
   "source": [
    "## Coding a KNN classifier"
   ]
  },
  {
   "cell_type": "code",
   "execution_count": 128,
   "metadata": {
    "collapsed": true,
    "run_control": {
     "frozen": false,
     "read_only": false
    }
   },
   "outputs": [],
   "source": [
    "import numpy as np\n",
    "import pandas as pd\n",
    "import matplotlib.pyplot as plt\n",
    "import scipy\n",
    "%matplotlib inline"
   ]
  },
  {
   "cell_type": "code",
   "execution_count": 129,
   "metadata": {
    "run_control": {
     "frozen": false,
     "read_only": false
    }
   },
   "outputs": [
    {
     "data": {
      "image/png": "[encoded data removed]",
      "text/plain": [
       "<matplotlib.figure.Figure at 0x1101e0dd8>"
      ]
     },
     "metadata": {},
     "output_type": "display_data"
    }
   ],
   "source": [
    "#Create some dummy data to play with.\n",
    "music = pd.DataFrame()\n",
    "\n",
    "music['duration'] = [184, 134, 243, 186, 122, 197, 294, 382, 102, 264, \n",
    "                     205, 110, 307, 110, 397, 153, 190, 192, 210, 403,\n",
    "                     164, 198, 204, 253, 234, 190, 182, 401, 376, 102]\n",
    "music['loudness'] = [18, 34, 43, 36, 22, 9, 29, 22, 10, 24, \n",
    "                     20, 10, 17, 51, 7, 13, 19, 12, 21, 22,\n",
    "                     16, 18, 4, 23, 34, 19, 14, 11, 37, 42]\n",
    "\n",
    "# We know whether the songs in our training data are jazz or not.\n",
    "music['jazz'] = [ 1, 0, 0, 0, 1, 1, 0, 1, 1, 0,\n",
    "                  0, 1, 1, 0, 1, 1, 0, 1, 1, 1,\n",
    "                  1, 1, 1, 1, 0, 0, 1, 1, 0, 0]\n",
    "\n",
    "\n",
    "# Look at our data.\n",
    "plt.scatter(\n",
    "    music[music['jazz'] == 1].duration,\n",
    "    music[music['jazz'] == 1].loudness,\n",
    "    color='red'\n",
    ")\n",
    "plt.scatter(\n",
    "    music[music['jazz'] == 0].duration,\n",
    "    music[music['jazz'] == 0].loudness,\n",
    "    color='blue'\n",
    ")\n",
    "plt.legend(['Jazz', 'Rock'])\n",
    "plt.title('Jazz and Rock Characteristics')\n",
    "plt.xlabel('Duration')\n",
    "plt.ylabel('Loudness')\n",
    "plt.show()"
   ]
  },
  {
   "cell_type": "code",
   "execution_count": 130,
   "metadata": {
    "run_control": {
     "frozen": false,
     "read_only": false
    }
   },
   "outputs": [
    {
     "data": {
      "text/plain": [
       "array([0])"
      ]
     },
     "execution_count": 130,
     "metadata": {},
     "output_type": "execute_result"
    }
   ],
   "source": [
    "from sklearn.neighbors import KNeighborsClassifier\n",
    "neighbors = KNeighborsClassifier(n_neighbors=1)\n",
    "X = music[['loudness', 'duration']]\n",
    "Y = music.jazz\n",
    "neighbors.fit(X,Y)\n",
    "\n",
    "## Predict for a song with 24 loudness that's 190 seconds long.\n",
    "neighbors.predict([[24, 190]])"
   ]
  },
  {
   "cell_type": "code",
   "execution_count": 131,
   "metadata": {
    "run_control": {
     "frozen": false,
     "read_only": false
    }
   },
   "outputs": [
    {
     "name": "stdout",
     "output_type": "stream",
     "text": [
      "[1]\n",
      "[[ 0.4  0.6]]\n"
     ]
    }
   ],
   "source": [
    "neighbors = KNeighborsClassifier(n_neighbors=5)\n",
    "X = music[['loudness', 'duration']]\n",
    "Y = music.jazz\n",
    "neighbors.fit(X,Y)\n",
    "\n",
    "## Predict for a 24 loudness, 190 seconds long song.\n",
    "print(neighbors.predict([[24, 190]]))\n",
    "print(neighbors.predict_proba([[24, 190]]))"
   ]
  },
  {
   "cell_type": "markdown",
   "metadata": {
    "run_control": {
     "frozen": false,
     "read_only": false
    }
   },
   "source": [
    "## Challenge: Implement the Nearest Neighbor algorithm \n",
    "\n",
    "The Nearest Neighbor algorithm is extremely simple. So simple, in fact, that you should be able to build it yourself from scratch using the Python you already know. Code a Nearest Neighbors algorithm that works for two dimensional data. You can use either arrays or dataframes to do this. Test it against the SKLearn package on the music dataset from above to ensure that it's correct. The goal here is to confirm your understanding of the model and continue to practice your Python skills. We're just expecting a brute force method here. After doing this, look up \"ball tree\" methods to see a more performant algorithm design."
   ]
  },
  {
   "cell_type": "code",
   "execution_count": 132,
   "metadata": {},
   "outputs": [
    {
     "data": {
      "text/html": [
       "<div>\n",
       "<style>\n",
       "    .dataframe thead tr:only-child th {\n",
       "        text-align: right;\n",
       "    }\n",
       "\n",
       "    .dataframe thead th {\n",
       "        text-align: left;\n",
       "    }\n",
       "\n",
       "    .dataframe tbody tr th {\n",
       "        vertical-align: top;\n",
       "    }\n",
       "</style>\n",
       "<table border=\"1\" class=\"dataframe\">\n",
       "  <thead>\n",
       "    <tr style=\"text-align: right;\">\n",
       "      <th></th>\n",
       "      <th>loudness</th>\n",
       "      <th>duration</th>\n",
       "    </tr>\n",
       "  </thead>\n",
       "  <tbody>\n",
       "    <tr>\n",
       "      <th>0</th>\n",
       "      <td>18</td>\n",
       "      <td>184</td>\n",
       "    </tr>\n",
       "    <tr>\n",
       "      <th>1</th>\n",
       "      <td>34</td>\n",
       "      <td>134</td>\n",
       "    </tr>\n",
       "    <tr>\n",
       "      <th>2</th>\n",
       "      <td>43</td>\n",
       "      <td>243</td>\n",
       "    </tr>\n",
       "    <tr>\n",
       "      <th>3</th>\n",
       "      <td>36</td>\n",
       "      <td>186</td>\n",
       "    </tr>\n",
       "    <tr>\n",
       "      <th>4</th>\n",
       "      <td>22</td>\n",
       "      <td>122</td>\n",
       "    </tr>\n",
       "    <tr>\n",
       "      <th>5</th>\n",
       "      <td>9</td>\n",
       "      <td>197</td>\n",
       "    </tr>\n",
       "    <tr>\n",
       "      <th>6</th>\n",
       "      <td>29</td>\n",
       "      <td>294</td>\n",
       "    </tr>\n",
       "    <tr>\n",
       "      <th>7</th>\n",
       "      <td>22</td>\n",
       "      <td>382</td>\n",
       "    </tr>\n",
       "    <tr>\n",
       "      <th>8</th>\n",
       "      <td>10</td>\n",
       "      <td>102</td>\n",
       "    </tr>\n",
       "    <tr>\n",
       "      <th>9</th>\n",
       "      <td>24</td>\n",
       "      <td>264</td>\n",
       "    </tr>\n",
       "    <tr>\n",
       "      <th>10</th>\n",
       "      <td>20</td>\n",
       "      <td>205</td>\n",
       "    </tr>\n",
       "    <tr>\n",
       "      <th>11</th>\n",
       "      <td>10</td>\n",
       "      <td>110</td>\n",
       "    </tr>\n",
       "    <tr>\n",
       "      <th>12</th>\n",
       "      <td>17</td>\n",
       "      <td>307</td>\n",
       "    </tr>\n",
       "    <tr>\n",
       "      <th>13</th>\n",
       "      <td>51</td>\n",
       "      <td>110</td>\n",
       "    </tr>\n",
       "    <tr>\n",
       "      <th>14</th>\n",
       "      <td>7</td>\n",
       "      <td>397</td>\n",
       "    </tr>\n",
       "    <tr>\n",
       "      <th>15</th>\n",
       "      <td>13</td>\n",
       "      <td>153</td>\n",
       "    </tr>\n",
       "    <tr>\n",
       "      <th>16</th>\n",
       "      <td>19</td>\n",
       "      <td>190</td>\n",
       "    </tr>\n",
       "    <tr>\n",
       "      <th>17</th>\n",
       "      <td>12</td>\n",
       "      <td>192</td>\n",
       "    </tr>\n",
       "    <tr>\n",
       "      <th>18</th>\n",
       "      <td>21</td>\n",
       "      <td>210</td>\n",
       "    </tr>\n",
       "    <tr>\n",
       "      <th>19</th>\n",
       "      <td>22</td>\n",
       "      <td>403</td>\n",
       "    </tr>\n",
       "    <tr>\n",
       "      <th>20</th>\n",
       "      <td>16</td>\n",
       "      <td>164</td>\n",
       "    </tr>\n",
       "    <tr>\n",
       "      <th>21</th>\n",
       "      <td>18</td>\n",
       "      <td>198</td>\n",
       "    </tr>\n",
       "    <tr>\n",
       "      <th>22</th>\n",
       "      <td>4</td>\n",
       "      <td>204</td>\n",
       "    </tr>\n",
       "    <tr>\n",
       "      <th>23</th>\n",
       "      <td>23</td>\n",
       "      <td>253</td>\n",
       "    </tr>\n",
       "    <tr>\n",
       "      <th>24</th>\n",
       "      <td>34</td>\n",
       "      <td>234</td>\n",
       "    </tr>\n",
       "    <tr>\n",
       "      <th>25</th>\n",
       "      <td>19</td>\n",
       "      <td>190</td>\n",
       "    </tr>\n",
       "    <tr>\n",
       "      <th>26</th>\n",
       "      <td>14</td>\n",
       "      <td>182</td>\n",
       "    </tr>\n",
       "    <tr>\n",
       "      <th>27</th>\n",
       "      <td>11</td>\n",
       "      <td>401</td>\n",
       "    </tr>\n",
       "    <tr>\n",
       "      <th>28</th>\n",
       "      <td>37</td>\n",
       "      <td>376</td>\n",
       "    </tr>\n",
       "    <tr>\n",
       "      <th>29</th>\n",
       "      <td>42</td>\n",
       "      <td>102</td>\n",
       "    </tr>\n",
       "  </tbody>\n",
       "</table>\n",
       "</div>"
      ],
      "text/plain": [
       "    loudness  duration\n",
       "0         18       184\n",
       "1         34       134\n",
       "2         43       243\n",
       "3         36       186\n",
       "4         22       122\n",
       "5          9       197\n",
       "6         29       294\n",
       "7         22       382\n",
       "8         10       102\n",
       "9         24       264\n",
       "10        20       205\n",
       "11        10       110\n",
       "12        17       307\n",
       "13        51       110\n",
       "14         7       397\n",
       "15        13       153\n",
       "16        19       190\n",
       "17        12       192\n",
       "18        21       210\n",
       "19        22       403\n",
       "20        16       164\n",
       "21        18       198\n",
       "22         4       204\n",
       "23        23       253\n",
       "24        34       234\n",
       "25        19       190\n",
       "26        14       182\n",
       "27        11       401\n",
       "28        37       376\n",
       "29        42       102"
      ]
     },
     "execution_count": 132,
     "metadata": {},
     "output_type": "execute_result"
    }
   ],
   "source": [
    "X"
   ]
  },
  {
   "cell_type": "code",
   "execution_count": 133,
   "metadata": {},
   "outputs": [
    {
     "data": {
      "text/plain": [
       "0     1\n",
       "1     0\n",
       "2     0\n",
       "3     0\n",
       "4     1\n",
       "5     1\n",
       "6     0\n",
       "7     1\n",
       "8     1\n",
       "9     0\n",
       "10    0\n",
       "11    1\n",
       "12    1\n",
       "13    0\n",
       "14    1\n",
       "15    1\n",
       "16    0\n",
       "17    1\n",
       "18    1\n",
       "19    1\n",
       "20    1\n",
       "21    1\n",
       "22    1\n",
       "23    1\n",
       "24    0\n",
       "25    0\n",
       "26    1\n",
       "27    1\n",
       "28    0\n",
       "29    0\n",
       "Name: jazz, dtype: int64"
      ]
     },
     "execution_count": 133,
     "metadata": {},
     "output_type": "execute_result"
    }
   ],
   "source": [
    "Y"
   ]
  },
  {
   "cell_type": "code",
   "execution_count": 134,
   "metadata": {},
   "outputs": [
    {
     "data": {
      "text/plain": [
       "[140, 30]"
      ]
     },
     "execution_count": 134,
     "metadata": {},
     "output_type": "execute_result"
    }
   ],
   "source": [
    "test = [[140, 30]]\n",
    "\n",
    "\n",
    "test[0]"
   ]
  },
  {
   "cell_type": "code",
   "execution_count": 135,
   "metadata": {
    "scrolled": true
   },
   "outputs": [
    {
     "data": {
      "text/plain": [
       "[0     196.468827\n",
       " 1     148.499158\n",
       " 2     234.047004\n",
       " 3     187.488666\n",
       " 4     149.626201\n",
       " 5     212.249853\n",
       " 6     286.386103\n",
       " 7     371.251936\n",
       " 8     148.606864\n",
       " 9     261.174271\n",
       " 10    212.190952\n",
       " 11    152.643375\n",
       " 12    303.080847\n",
       " 13    119.670381\n",
       " 14    390.356248\n",
       " 15    176.799321\n",
       " 16    200.601595\n",
       " 17    206.465493\n",
       " 18    215.779981\n",
       " 19    391.219887\n",
       " 20    182.570534\n",
       " 21    207.624661\n",
       " 22    220.843836\n",
       " 23    251.829307\n",
       " 24    229.895628\n",
       " 25    200.601595\n",
       " 26    197.433533\n",
       " 27    392.787474\n",
       " 28    361.005540\n",
       " 29    121.605921\n",
       " dtype: float64, 0     170.000000\n",
       " 1     118.118584\n",
       " 2     218.123818\n",
       " 3     165.081798\n",
       " 4     114.402797\n",
       " 5     185.607112\n",
       " 6     270.955716\n",
       " 7     358.508019\n",
       " 8     107.628992\n",
       " 9     243.129595\n",
       " 10    188.480768\n",
       " 11    113.137085\n",
       " 12    286.457676\n",
       " 13     89.000000\n",
       " 14    376.268521\n",
       " 15    145.113748\n",
       " 16    175.045708\n",
       " 17    179.799889\n",
       " 18    192.771886\n",
       " 19    379.147728\n",
       " 20    153.075145\n",
       " 21    182.778555\n",
       " 22    194.092761\n",
       " 23    232.847590\n",
       " 24    211.546685\n",
       " 25    175.045708\n",
       " 26    169.941166\n",
       " 27    379.317809\n",
       " 28    350.035712\n",
       " 29     86.533231\n",
       " dtype: float64]"
      ]
     },
     "execution_count": 135,
     "metadata": {},
     "output_type": "execute_result"
    }
   ],
   "source": [
    "#Practice writing Euclidean Distance function.\n",
    "\n",
    "def euclidean_dist(test, train):\n",
    "    #test and train are n x m arrays\n",
    "    distances = []\n",
    "    for i in range(len(test)):\n",
    "        distance = np.sqrt(np.sum(np.square(test[i] - train), axis=1))\n",
    "        distances.append(distance)\n",
    "    return distances\n",
    "\n",
    "train = X\n",
    "#X is 30 x 2\n",
    "test = [[140, 30], [90,30]]\n",
    "Y_test = [0]\n",
    "#test is 2 x 2\n",
    "\n",
    "euclidean_dist(test, train)"
   ]
  },
  {
   "cell_type": "code",
   "execution_count": 136,
   "metadata": {},
   "outputs": [
    {
     "name": "stdout",
     "output_type": "stream",
     "text": [
      "13    0\n",
      "29    0\n",
      "Name: jazz, dtype: int64\n"
     ]
    },
    {
     "data": {
      "text/plain": [
       "[13    0\n",
       " 29    0\n",
       " Name: jazz, dtype: int64]"
      ]
     },
     "execution_count": 136,
     "metadata": {},
     "output_type": "execute_result"
    }
   ],
   "source": [
    "def get_neighbor(X_train, X_test, Y_train):\n",
    "    neighbors = np.argsort(euclidean_dist(test, train))\n",
    "    index = [item[0] for item in neighbors]\n",
    "    return(Y_train[index])\n",
    "\n",
    "print(get_neighbor(train, test, Y))\n",
    "    \n",
    "def knn_class(X_train, X_test, Y_train):\n",
    "    #Here's where I need to polish it up.\n",
    "    #I want to get the object returned by get_neighbor into a shape\n",
    "    #that I can append to a dataframe storing the test data points.\n",
    "    #That is, where row0 is test index 0, test 0 column 1, test 0 column 2, 13, 0, etc.\n",
    "    predictions = []\n",
    "    predictions.append(get_neighbor(X_train, X_test, Y_train))\n",
    "    return(predictions)\n",
    "\n",
    "knn_class(train, test, Y)"
   ]
  },
  {
   "cell_type": "code",
   "execution_count": 137,
   "metadata": {},
   "outputs": [
    {
     "data": {
      "text/plain": [
       "[13    0.0\n",
       " 29    NaN\n",
       " Name: jazz, dtype: float64]"
      ]
     },
     "execution_count": 137,
     "metadata": {},
     "output_type": "execute_result"
    }
   ],
   "source": [
    "X_train = X[:29]\n",
    "Y_train = Y[:29]\n",
    "\n",
    "X_test = X[29:]\n",
    "Y_test = Y[29:]\n",
    "\n",
    "#But not with dataframes...\n",
    "knn_class(X_train, X_test, Y_train)"
   ]
  },
  {
   "cell_type": "code",
   "execution_count": null,
   "metadata": {
    "collapsed": true
   },
   "outputs": [],
   "source": []
  }
 ],
 "metadata": {
  "hide_input": false,
  "kernelspec": {
   "display_name": "Python 3",
   "language": "python",
   "name": "python3"
  },
  "language_info": {
   "codemirror_mode": {
    "name": "ipython",
    "version": 3
   },
   "file_extension": ".py",
   "mimetype": "text/x-python",
   "name": "python",
   "nbconvert_exporter": "python",
   "pygments_lexer": "ipython3",
   "version": "3.6.2"
  },
  "toc": {
   "colors": {
    "hover_highlight": "#DAA520",
    "running_highlight": "#FF0000",
    "selected_highlight": "#FFD700"
   },
   "moveMenuLeft": true,
   "nav_menu": {
    "height": "86px",
    "width": "252px"
   },
   "navigate_menu": true,
   "number_sections": true,
   "sideBar": true,
   "threshold": 4,
   "toc_cell": false,
   "toc_section_display": "block",
   "toc_window_display": false
  }
 },
 "nbformat": 4,
 "nbformat_minor": 2
}
