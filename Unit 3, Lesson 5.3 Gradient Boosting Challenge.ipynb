{
 "cells": [
  {
   "cell_type": "code",
   "execution_count": 1,
   "metadata": {
    "run_control": {
     "frozen": false,
     "read_only": false
    }
   },
   "outputs": [
    {
     "name": "stderr",
     "output_type": "stream",
     "text": [
      "/Users/teresaoneill/anaconda3/lib/python3.6/site-packages/sklearn/cross_validation.py:41: DeprecationWarning: This module was deprecated in version 0.18 in favor of the model_selection module into which all the refactored classes and functions are moved. Also note that the interface of the new CV iterators are different from that of this module. This module will be removed in 0.20.\n",
      "  \"This module will be removed in 0.20.\", DeprecationWarning)\n",
      "/Users/teresaoneill/anaconda3/lib/python3.6/site-packages/sklearn/grid_search.py:42: DeprecationWarning: This module was deprecated in version 0.18 in favor of the model_selection module into which all the refactored classes and functions are moved. This module will be removed in 0.20.\n",
      "  DeprecationWarning)\n"
     ]
    }
   ],
   "source": [
    "import pandas as pd\n",
    "import numpy as np\n",
    "import scipy\n",
    "import matplotlib.pyplot as plt\n",
    "%matplotlib inline\n",
    "\n",
    "from sklearn import ensemble\n",
    "from sklearn import datasets\n",
    "from sklearn.utils import shuffle\n",
    "from sklearn.metrics import mean_squared_error\n",
    "from sklearn.grid_search import GridSearchCV\n",
    "from sklearn.model_selection import cross_val_score\n",
    "from sklearn.metrics import classification_report\n",
    "from sklearn.metrics import confusion_matrix"
   ]
  },
  {
   "cell_type": "markdown",
   "metadata": {},
   "source": [
    "### Gradient boost guided example\n",
    "\n",
    "Having walked through gradient boost by hand, now let's try it with SKlearn.  We'll still use the European Social Survey Data, but now with a categorical outcome: Whether or not someone lives with a partner."
   ]
  },
  {
   "cell_type": "code",
   "execution_count": 2,
   "metadata": {},
   "outputs": [
    {
     "data": {
      "text/plain": [
       "7332"
      ]
     },
     "execution_count": 2,
     "metadata": {},
     "output_type": "execute_result"
    }
   ],
   "source": [
    "df = pd.read_csv((\n",
    "    \"https://raw.githubusercontent.com/Thinkful-Ed/data-201-resources/\"\n",
    "    \"master/ESS_practice_data/ESSdata_Thinkful.csv\")).dropna()\n",
    "\n",
    "# Definine outcome and predictors.\n",
    "# Set our outcome to 0 and 1.\n",
    "y = df['partner'] - 1\n",
    "X = df.loc[:, ~df.columns.isin(['partner', 'cntry', 'idno'])]\n",
    "\n",
    "# Make the categorical variable 'country' into dummies.\n",
    "X = pd.concat([X, pd.get_dummies(df['cntry'])], axis=1)\n",
    "\n",
    "# Create training and test sets.\n",
    "offset = int(X.shape[0] * 0.9)\n",
    "\n",
    "# Put 90% of the data in the training set.\n",
    "X_train, y_train = X[:offset], y[:offset]\n",
    "\n",
    "# And put 10% in the test set.\n",
    "X_test, y_test = X[offset:], y[offset:]\n",
    "\n",
    "len(X_train)"
   ]
  },
  {
   "cell_type": "markdown",
   "metadata": {},
   "source": [
    "Since we're now working with a binary outcome, we've switched to a classifier.  Now our loss function can't be the residuals.  Our options are \"deviance\", or \"exponential\".  Deviance is used for logistic regression, and we'll try that here."
   ]
  },
  {
   "cell_type": "code",
   "execution_count": 3,
   "metadata": {},
   "outputs": [
    {
     "name": "stdout",
     "output_type": "stream",
     "text": [
      "Training set accuracy:\n",
      "Percent Type I errors: 0.04650845608292417\n",
      "Percent Type II errors: 0.17607746863066012\n",
      "\n",
      "Test set accuracy:\n",
      "Percent Type I errors: 0.06257668711656442\n",
      "Percent Type II errors: 0.18527607361963191\n"
     ]
    }
   ],
   "source": [
    "# We'll make 500 iterations, use 2-deep trees, and set our loss function.\n",
    "params = {'n_estimators': 500,\n",
    "          'max_depth': 2,\n",
    "          'loss': 'deviance'}\n",
    "\n",
    "# Initialize and fit the model.\n",
    "clf = ensemble.GradientBoostingClassifier(**params)\n",
    "clf.fit(X_train, y_train)\n",
    "\n",
    "predict_train = clf.predict(X_train)\n",
    "predict_test = clf.predict(X_test)\n",
    "\n",
    "# Accuracy tables.\n",
    "table_train = pd.crosstab(y_train, predict_train, margins=True)\n",
    "table_test = pd.crosstab(y_test, predict_test, margins=True)\n",
    "\n",
    "train_tI_errors = table_train.loc[0.0,1.0] / table_train.loc['All','All']\n",
    "train_tII_errors = table_train.loc[1.0,0.0] / table_train.loc['All','All']\n",
    "\n",
    "test_tI_errors = table_test.loc[0.0,1.0]/table_test.loc['All','All']\n",
    "test_tII_errors = table_test.loc[1.0,0.0]/table_test.loc['All','All']\n",
    "\n",
    "print((\n",
    "    'Training set accuracy:\\n'\n",
    "    'Percent Type I errors: {}\\n'\n",
    "    'Percent Type II errors: {}\\n\\n'\n",
    "    'Test set accuracy:\\n'\n",
    "    'Percent Type I errors: {}\\n'\n",
    "    'Percent Type II errors: {}'\n",
    ").format(train_tI_errors, train_tII_errors, test_tI_errors, test_tII_errors))\n"
   ]
  },
  {
   "cell_type": "markdown",
   "metadata": {},
   "source": [
    "Unlike decision trees, gradient boost solutions are not terribly easy to interpret on the surface.  But they aren't quite a black box.  We can get a measure of how important various features are by counting how many times a feature is used over the course of many decision trees."
   ]
  },
  {
   "cell_type": "code",
   "execution_count": 4,
   "metadata": {},
   "outputs": [
    {
     "data": {
      "image/png": "[encoded data removed]",
      "text/plain": [
       "<matplotlib.figure.Figure at 0x1a103a7710>"
      ]
     },
     "metadata": {},
     "output_type": "display_data"
    }
   ],
   "source": [
    "feature_importance = clf.feature_importances_\n",
    "\n",
    "# Make importances relative to max importance.\n",
    "feature_importance = 100.0 * (feature_importance / feature_importance.max())\n",
    "sorted_idx = np.argsort(feature_importance)\n",
    "pos = np.arange(sorted_idx.shape[0]) + .5\n",
    "plt.subplot(1, 2, 2)\n",
    "plt.barh(pos, feature_importance[sorted_idx], align='center')\n",
    "plt.yticks(pos, X.columns[sorted_idx])\n",
    "plt.xlabel('Relative Importance')\n",
    "plt.title('Variable Importance')\n",
    "plt.show()"
   ]
  },
  {
   "cell_type": "markdown",
   "metadata": {},
   "source": [
    "It appears that age and happiness are the most important features in predicting whether or not someone lives with a partner."
   ]
  },
  {
   "cell_type": "markdown",
   "metadata": {
    "collapsed": true
   },
   "source": [
    "### DRILL: Improve this gradient boost model\n",
    "\n",
    "While this model is already doing alright, we've seen from the Type I and Type II error rates that there is definitely room for improvement.  Your task is to see how low you can get the error rates to go in the test set, based on your model in the training set.  Strategies you might use include:\n",
    "\n",
    "* Creating new features\n",
    "* Applying more overfitting-prevention strategies like subsampling\n",
    "* More iterations\n",
    "* Trying a different loss function\n",
    "* Changing the structure of the weak learner: Allowing more leaves in the tree, or other modifications\n",
    "\n",
    "Have fun!"
   ]
  },
  {
   "cell_type": "code",
   "execution_count": 5,
   "metadata": {
    "scrolled": true
   },
   "outputs": [
    {
     "name": "stdout",
     "output_type": "stream",
     "text": [
      "[mean: 0.77373, std: 0.01512, params: {'learning_rate': 0.001, 'n_estimators': 20}, mean: 0.77699, std: 0.01776, params: {'learning_rate': 0.001, 'n_estimators': 40}, mean: 0.77816, std: 0.01802, params: {'learning_rate': 0.001, 'n_estimators': 60}, mean: 0.77899, std: 0.01887, params: {'learning_rate': 0.001, 'n_estimators': 80}, mean: 0.77942, std: 0.01845, params: {'learning_rate': 0.001, 'n_estimators': 100}, mean: 0.77904, std: 0.01864, params: {'learning_rate': 0.05, 'n_estimators': 20}, mean: 0.78495, std: 0.01967, params: {'learning_rate': 0.05, 'n_estimators': 40}, mean: 0.78576, std: 0.01972, params: {'learning_rate': 0.05, 'n_estimators': 60}, mean: 0.78687, std: 0.01947, params: {'learning_rate': 0.05, 'n_estimators': 80}, mean: 0.78603, std: 0.01866, params: {'learning_rate': 0.05, 'n_estimators': 100}, mean: 0.78212, std: 0.01747, params: {'learning_rate': 0.1, 'n_estimators': 20}, mean: 0.78430, std: 0.01812, params: {'learning_rate': 0.1, 'n_estimators': 40}, mean: 0.78378, std: 0.01848, params: {'learning_rate': 0.1, 'n_estimators': 60}, mean: 0.78225, std: 0.02059, params: {'learning_rate': 0.1, 'n_estimators': 80}, mean: 0.78049, std: 0.02110, params: {'learning_rate': 0.1, 'n_estimators': 100}, mean: 0.78446, std: 0.01794, params: {'learning_rate': 0.15, 'n_estimators': 20}, mean: 0.78522, std: 0.01691, params: {'learning_rate': 0.15, 'n_estimators': 40}, mean: 0.78307, std: 0.01796, params: {'learning_rate': 0.15, 'n_estimators': 60}, mean: 0.78025, std: 0.01871, params: {'learning_rate': 0.15, 'n_estimators': 80}, mean: 0.77674, std: 0.01899, params: {'learning_rate': 0.15, 'n_estimators': 100}, mean: 0.78282, std: 0.01938, params: {'learning_rate': 0.2, 'n_estimators': 20}, mean: 0.78016, std: 0.01978, params: {'learning_rate': 0.2, 'n_estimators': 40}, mean: 0.77406, std: 0.01895, params: {'learning_rate': 0.2, 'n_estimators': 60}, mean: 0.77259, std: 0.02282, params: {'learning_rate': 0.2, 'n_estimators': 80}, mean: 0.76978, std: 0.02427, params: {'learning_rate': 0.2, 'n_estimators': 100}] \n",
      " {'learning_rate': 0.05, 'n_estimators': 80} \n",
      " 0.7868668223776023\n"
     ]
    }
   ],
   "source": [
    "param_test1 = [{'n_estimators':[20, 40, 60, 80, 100], 'learning_rate':[0.001, 0.05, 0.1, 0.15, 0.2]}]\n",
    "clf = ensemble.GradientBoostingClassifier(**params)\n",
    "gsearch1 = GridSearchCV(estimator = ensemble.GradientBoostingClassifier(min_samples_split=10,\n",
    "                                                               min_samples_leaf=50,\n",
    "                                                               max_depth=8,\n",
    "                                                               max_features='sqrt',\n",
    "                                                               subsample=0.8,\n",
    "                                                               random_state=10, \n",
    "                                                               loss='deviance'), \n",
    "                        param_grid = param_test1, \n",
    "                        scoring='roc_auc',\n",
    "                        n_jobs=4,\n",
    "                        iid=False, \n",
    "                        cv=5)\n",
    "gsearch1.fit(X_train,y_train)\n",
    "print(gsearch1.grid_scores_, '\\n', gsearch1.best_params_, '\\n', gsearch1.best_score_)"
   ]
  },
  {
   "cell_type": "markdown",
   "metadata": {},
   "source": [
    "A grid search to explore the trade-off between the learning rate and the number of estimators yielded optimal parameters of 0.05 and 80. Let's fit a model with those parameters and see how it fares in cross-validation on the tuning dataset."
   ]
  },
  {
   "cell_type": "code",
   "execution_count": 6,
   "metadata": {},
   "outputs": [
    {
     "name": "stdout",
     "output_type": "stream",
     "text": [
      "[ 0.77232447  0.71574642  0.7607362   0.74079127  0.76109215]\n",
      "0.750138101645\n",
      "             precision    recall  f1-score   support\n",
      "\n",
      "        0.0       0.77      0.94      0.84      4508\n",
      "        1.0       0.84      0.54      0.66      2824\n",
      "\n",
      "avg / total       0.80      0.78      0.77      7332\n",
      "\n",
      "Training set accuracy:\n",
      "Percent Type I errors: 0.039416257501363884\n",
      "Percent Type II errors: 0.1756683033278778\n",
      "\n",
      "\n"
     ]
    }
   ],
   "source": [
    "clf1 = ensemble.GradientBoostingClassifier(learning_rate=0.05, \n",
    "                                           min_samples_split=10,\n",
    "                                           min_samples_leaf=50,\n",
    "                                           n_estimators=80,\n",
    "                                           max_depth=8,\n",
    "                                           max_features='sqrt',\n",
    "                                           subsample=0.8,\n",
    "                                           random_state=10,\n",
    "                                           loss='deviance')\n",
    "\n",
    "clf1.fit(X_train,y_train)\n",
    "predict_train = clf1.predict(X_train)\n",
    "\n",
    "print(cross_val_score(clf1, X_train, y_train, cv=5))\n",
    "print(cross_val_score(clf1, X_train, y_train, cv=5).mean())\n",
    "\n",
    "# Accuracy tables.\n",
    "print(classification_report(y_train, predict_train))\n",
    "table_train = pd.crosstab(y_train, predict_train, margins=True)\n",
    "train_tI_errors = table_train.loc[0.0,1.0] / table_train.loc['All','All']\n",
    "train_tII_errors = table_train.loc[1.0,0.0] / table_train.loc['All','All']\n",
    "\n",
    "print((\n",
    "    'Training set accuracy:\\n'\n",
    "    'Percent Type I errors: {}\\n'\n",
    "    'Percent Type II errors: {}\\n\\n'\n",
    ").format(train_tI_errors, train_tII_errors))"
   ]
  },
  {
   "cell_type": "code",
   "execution_count": 7,
   "metadata": {},
   "outputs": [
    {
     "data": {
      "image/png": "[encoded data removed]",
      "text/plain": [
       "<matplotlib.figure.Figure at 0x1a1123ce10>"
      ]
     },
     "metadata": {},
     "output_type": "display_data"
    }
   ],
   "source": [
    "feature_importance = clf1.feature_importances_\n",
    "\n",
    "# Make importances relative to max importance.\n",
    "feature_importance = 100.0 * (feature_importance / feature_importance.max())\n",
    "sorted_idx = np.argsort(feature_importance)\n",
    "pos = np.arange(sorted_idx.shape[0]) + .5\n",
    "plt.subplot(1, 2, 2)\n",
    "plt.barh(pos, feature_importance[sorted_idx], align='center')\n",
    "plt.yticks(pos, X.columns[sorted_idx])\n",
    "plt.xlabel('Relative Importance')\n",
    "plt.title('Variable Importance')\n",
    "plt.show()"
   ]
  },
  {
   "cell_type": "markdown",
   "metadata": {},
   "source": [
    "We have a somewhat consistent accuracy rating of 75% in the training data, and that the Type I error rates for the training data dropped a tiny bit with the optimized parameters. We can also see that age is disproportionately important in this model, as compared to the untuned model above. \n",
    "\n",
    "Let's try some of the parameters related to the estimators and see if we can improve the model."
   ]
  },
  {
   "cell_type": "code",
   "execution_count": 8,
   "metadata": {},
   "outputs": [
    {
     "name": "stdout",
     "output_type": "stream",
     "text": [
      "[mean: 0.78382, std: 0.01966, params: {'max_depth': 4, 'min_samples_split': 10}, mean: 0.78382, std: 0.01966, params: {'max_depth': 4, 'min_samples_split': 50}, mean: 0.78382, std: 0.01966, params: {'max_depth': 4, 'min_samples_split': 100}, mean: 0.78404, std: 0.02044, params: {'max_depth': 4, 'min_samples_split': 200}, mean: 0.78469, std: 0.01941, params: {'max_depth': 4, 'min_samples_split': 400}, mean: 0.78687, std: 0.01947, params: {'max_depth': 8, 'min_samples_split': 10}, mean: 0.78687, std: 0.01947, params: {'max_depth': 8, 'min_samples_split': 50}, mean: 0.78687, std: 0.01947, params: {'max_depth': 8, 'min_samples_split': 100}, mean: 0.78646, std: 0.02025, params: {'max_depth': 8, 'min_samples_split': 200}, mean: 0.78529, std: 0.01866, params: {'max_depth': 8, 'min_samples_split': 400}, mean: 0.78475, std: 0.02017, params: {'max_depth': 16, 'min_samples_split': 10}, mean: 0.78475, std: 0.02017, params: {'max_depth': 16, 'min_samples_split': 50}, mean: 0.78475, std: 0.02017, params: {'max_depth': 16, 'min_samples_split': 100}, mean: 0.78517, std: 0.02034, params: {'max_depth': 16, 'min_samples_split': 200}, mean: 0.78517, std: 0.02015, params: {'max_depth': 16, 'min_samples_split': 400}, mean: 0.78502, std: 0.02023, params: {'max_depth': 24, 'min_samples_split': 10}, mean: 0.78502, std: 0.02023, params: {'max_depth': 24, 'min_samples_split': 50}, mean: 0.78502, std: 0.02023, params: {'max_depth': 24, 'min_samples_split': 100}, mean: 0.78537, std: 0.02027, params: {'max_depth': 24, 'min_samples_split': 200}, mean: 0.78527, std: 0.02020, params: {'max_depth': 24, 'min_samples_split': 400}] \n",
      " {'max_depth': 8, 'min_samples_split': 10} \n",
      " 0.7868668223776023\n"
     ]
    }
   ],
   "source": [
    "param_test2 = [{'min_samples_split':[10, 50, 100, 200, 400], 'max_depth':[4,8,16,24]}]\n",
    "clf = ensemble.GradientBoostingClassifier(**params)\n",
    "gsearch2 = GridSearchCV(estimator = ensemble.GradientBoostingClassifier(learning_rate=0.05,\n",
    "                                                                        n_estimators=80,\n",
    "                                                                        min_samples_leaf=50,\n",
    "                                                                        max_features='sqrt',\n",
    "                                                                        subsample=0.8,\n",
    "                                                                        random_state=10), \n",
    "                        param_grid = param_test2, \n",
    "                        scoring='roc_auc',\n",
    "                        n_jobs=4,\n",
    "                        iid=False, \n",
    "                        cv=5)\n",
    "gsearch2.fit(X_train,y_train)\n",
    "print(gsearch2.grid_scores_, '\\n', gsearch2.best_params_, '\\n', gsearch2.best_score_)"
   ]
  },
  {
   "cell_type": "markdown",
   "metadata": {},
   "source": [
    "The optimal values for max_depth and min_samples_split are in fact the ones we used as baselines in our initial model. "
   ]
  },
  {
   "cell_type": "code",
   "execution_count": 9,
   "metadata": {},
   "outputs": [
    {
     "name": "stdout",
     "output_type": "stream",
     "text": [
      "[mean: 0.78517, std: 0.02080, params: {'max_features': 'sqrt', 'subsample': 0.7}, mean: 0.78687, std: 0.01947, params: {'max_features': 'sqrt', 'subsample': 0.8}, mean: 0.78330, std: 0.01935, params: {'max_features': 'sqrt', 'subsample': 0.9}, mean: 0.78517, std: 0.02080, params: {'max_features': 'log2', 'subsample': 0.7}, mean: 0.78687, std: 0.01947, params: {'max_features': 'log2', 'subsample': 0.8}, mean: 0.78330, std: 0.01935, params: {'max_features': 'log2', 'subsample': 0.9}] \n",
      " {'max_features': 'sqrt', 'subsample': 0.8} \n",
      " 0.7868668223776023\n"
     ]
    }
   ],
   "source": [
    "param_test3 = [{'subsample':[0.7, 0.8, 0.9], 'max_features':['sqrt','log2']}]\n",
    "clf = ensemble.GradientBoostingClassifier(**params)\n",
    "gsearch3 = GridSearchCV(estimator = ensemble.GradientBoostingClassifier(learning_rate=0.05,\n",
    "                                                                        n_estimators=80,\n",
    "                                                                        min_samples_split=10,\n",
    "                                                                        max_depth=8,\n",
    "                                                                        min_samples_leaf=50,\n",
    "                                                                        random_state=10), \n",
    "                        param_grid = param_test3, \n",
    "                        scoring='roc_auc',\n",
    "                        n_jobs=4,\n",
    "                        iid=False, \n",
    "                        cv=5)\n",
    "gsearch3.fit(X_train,y_train)\n",
    "print(gsearch3.grid_scores_, '\\n', gsearch3.best_params_, '\\n', gsearch3.best_score_)"
   ]
  },
  {
   "cell_type": "markdown",
   "metadata": {},
   "source": [
    "Once again, our original hyperparameters turn out to be the opitmal ones. \n",
    "\n",
    "For a final tuning procedure, we'll run the model with the exponential loss function in place of deviance. "
   ]
  },
  {
   "cell_type": "code",
   "execution_count": 10,
   "metadata": {},
   "outputs": [
    {
     "name": "stdout",
     "output_type": "stream",
     "text": [
      "[ 0.77300613  0.72460804  0.76346285  0.73942701  0.74948805]\n",
      "0.749998418967\n",
      "             precision    recall  f1-score   support\n",
      "\n",
      "        0.0       0.76      0.94      0.84      4508\n",
      "        1.0       0.85      0.54      0.66      2824\n",
      "\n",
      "avg / total       0.80      0.78      0.77      7332\n",
      "\n",
      "Training set accuracy:\n",
      "Percent Type I errors: 0.03737043098745226\n",
      "Percent Type II errors: 0.1778505182760502\n",
      "\n",
      "\n"
     ]
    }
   ],
   "source": [
    "clf4 = ensemble.GradientBoostingClassifier(learning_rate=0.05, \n",
    "                                           min_samples_split=10,\n",
    "                                           min_samples_leaf=50,\n",
    "                                           n_estimators=80,\n",
    "                                           max_depth=8,\n",
    "                                           max_features='sqrt',\n",
    "                                           subsample=0.8,\n",
    "                                           random_state=10,\n",
    "                                           loss='exponential')\n",
    "\n",
    "clf4.fit(X_train,y_train)\n",
    "predict_train = clf4.predict(X_train)\n",
    "\n",
    "print(cross_val_score(clf4, X_train, y_train, cv=5))\n",
    "print(cross_val_score(clf4, X_train, y_train, cv=5).mean())\n",
    "\n",
    "# Accuracy tables.\n",
    "print(classification_report(y_train, predict_train))\n",
    "table_train = pd.crosstab(y_train, predict_train, margins=True)\n",
    "train_tI_errors = table_train.loc[0.0,1.0] / table_train.loc['All','All']\n",
    "train_tII_errors = table_train.loc[1.0,0.0] / table_train.loc['All','All']\n",
    "\n",
    "print((\n",
    "    'Training set accuracy:\\n'\n",
    "    'Percent Type I errors: {}\\n'\n",
    "    'Percent Type II errors: {}\\n\\n'\n",
    ").format(train_tI_errors, train_tII_errors))"
   ]
  },
  {
   "cell_type": "code",
   "execution_count": 11,
   "metadata": {},
   "outputs": [
    {
     "data": {
      "image/png": "[encoded data removed]",
      "text/plain": [
       "<matplotlib.figure.Figure at 0x1a1039d0b8>"
      ]
     },
     "metadata": {},
     "output_type": "display_data"
    }
   ],
   "source": [
    "feature_importance = clf4.feature_importances_\n",
    "\n",
    "# Make importances relative to max importance.\n",
    "feature_importance = 100.0 * (feature_importance / feature_importance.max())\n",
    "sorted_idx = np.argsort(feature_importance)\n",
    "pos = np.arange(sorted_idx.shape[0]) + .5\n",
    "plt.subplot(1, 2, 2)\n",
    "plt.barh(pos, feature_importance[sorted_idx], align='center')\n",
    "plt.yticks(pos, X.columns[sorted_idx])\n",
    "plt.xlabel('Relative Importance')\n",
    "plt.title('Variable Importance')\n",
    "plt.show()"
   ]
  },
  {
   "cell_type": "markdown",
   "metadata": {},
   "source": [
    "Here again, the Type I error rate improves, while the Type II error rate gets a little bit worse. Models 1 and 4 offer different advantages, depending on whether we are more concerned with the precision or recall. Let's run both on our test data, to see how well they perform."
   ]
  },
  {
   "cell_type": "code",
   "execution_count": 12,
   "metadata": {},
   "outputs": [
    {
     "name": "stdout",
     "output_type": "stream",
     "text": [
      "             precision    recall  f1-score   support\n",
      "\n",
      "        0.0       0.75      0.89      0.82       505\n",
      "        1.0       0.75      0.52      0.61       310\n",
      "\n",
      "avg / total       0.75      0.75      0.74       815\n",
      "\n",
      "Test set accuracy:\n",
      "Percent Type I errors: 0.06625766871165645\n",
      "Percent Type II errors: 0.18282208588957055\n",
      "\n",
      "\n"
     ]
    }
   ],
   "source": [
    "predict_test = clf1.predict(X_test)\n",
    "\n",
    "#Accuracy tables.\n",
    "print(classification_report(y_test, predict_test))\n",
    "table_test = pd.crosstab(y_test, predict_test, margins=True)\n",
    "test_tI_errors = table_test.loc[0.0,1.0] / table_test.loc['All','All']\n",
    "test_tII_errors = table_test.loc[1.0,0.0] / table_test.loc['All','All']\n",
    "\n",
    "print((\n",
    "    'Test set accuracy:\\n'\n",
    "    'Percent Type I errors: {}\\n'\n",
    "    'Percent Type II errors: {}\\n\\n'\n",
    ").format(test_tI_errors, test_tII_errors))"
   ]
  },
  {
   "cell_type": "code",
   "execution_count": 13,
   "metadata": {},
   "outputs": [
    {
     "name": "stdout",
     "output_type": "stream",
     "text": [
      "             precision    recall  f1-score   support\n",
      "\n",
      "        0.0       0.75      0.89      0.81       505\n",
      "        1.0       0.75      0.51      0.61       310\n",
      "\n",
      "avg / total       0.75      0.75      0.73       815\n",
      "\n",
      "Test set accuracy:\n",
      "Percent Type I errors: 0.06625766871165645\n",
      "Percent Type II errors: 0.18650306748466258\n",
      "\n",
      "\n"
     ]
    }
   ],
   "source": [
    "predict_test = clf4.predict(X_test)\n",
    "\n",
    "#Accuracy tables.\n",
    "print(classification_report(y_test, predict_test))\n",
    "table_test = pd.crosstab(y_test, predict_test, margins=True)\n",
    "test_tI_errors = table_test.loc[0.0,1.0] / table_test.loc['All','All']\n",
    "test_tII_errors = table_test.loc[1.0,0.0] / table_test.loc['All','All']\n",
    "\n",
    "print((\n",
    "    'Test set accuracy:\\n'\n",
    "    'Percent Type I errors: {}\\n'\n",
    "    'Percent Type II errors: {}\\n\\n'\n",
    ").format(test_tI_errors, test_tII_errors))"
   ]
  },
  {
   "cell_type": "markdown",
   "metadata": {},
   "source": [
    "Their performance is nearly identical, but Model 1 has a slight advantage over Model 4 with respect to Type II error rate, so it is our best performer."
   ]
  }
 ],
 "metadata": {
  "hide_input": false,
  "kernelspec": {
   "display_name": "Python 3",
   "language": "python",
   "name": "python3"
  },
  "language_info": {
   "codemirror_mode": {
    "name": "ipython",
    "version": 3
   },
   "file_extension": ".py",
   "mimetype": "text/x-python",
   "name": "python",
   "nbconvert_exporter": "python",
   "pygments_lexer": "ipython3",
   "version": "3.6.2"
  },
  "toc": {
   "colors": {
    "hover_highlight": "#DAA520",
    "running_highlight": "#FF0000",
    "selected_highlight": "#FFD700"
   },
   "moveMenuLeft": true,
   "nav_menu": {
    "height": "59px",
    "width": "252px"
   },
   "navigate_menu": true,
   "number_sections": true,
   "sideBar": true,
   "threshold": 4,
   "toc_cell": false,
   "toc_section_display": "block",
   "toc_window_display": false
  }
 },
 "nbformat": 4,
 "nbformat_minor": 2
}
