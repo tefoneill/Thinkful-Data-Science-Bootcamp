{
 "cells": [
  {
   "cell_type": "code",
   "execution_count": 146,
   "metadata": {
    "collapsed": true,
    "run_control": {
     "frozen": false,
     "read_only": false
    }
   },
   "outputs": [],
   "source": [
    "%matplotlib inline\n",
    "import numpy as np\n",
    "import pandas as pd\n",
    "import scipy\n",
    "import sklearn\n",
    "import matplotlib.pyplot as plt\n",
    "import seaborn as sns\n",
    "import nltk\n",
    "from nltk.corpus import stopwords "
   ]
  },
  {
   "cell_type": "markdown",
   "metadata": {
    "run_control": {
     "frozen": false,
     "read_only": false
    }
   },
   "source": [
    "# Naive Bayes Classifier: Feedback analysis #\n",
    "\n",
    "Using data from the Yelp Reviews dataset, let's build a Naive Bayes classifier to classify the sentiment polarity of restaurant reviews (positive or negative). We will start by exploring the data, and then we'll extract some features to start modeling. We will use unigrams to build and test a classifier. To demonstrate the problem of overfitting, the classifier built based on Yelp Review data will be tested on an additional, unseen dataset (as per Lesson 2.7 Challenge). \n",
    "\n",
    "To cross-validate and refine the model further, the classifier will be evaluated using 5 folds. Finally, we'll retest it on the unseen dataset to see how well the cross-validation has improved the classifer.\n",
    "\n",
    "## Overview of the data ##\n",
    "\n",
    "The dataset of 1000 rows includes just the review text and a sentiment polarity: 1 = positive, 0 = negative."
   ]
  },
  {
   "cell_type": "code",
   "execution_count": 147,
   "metadata": {
    "run_control": {
     "frozen": false,
     "read_only": false
    }
   },
   "outputs": [
    {
     "data": {
      "text/html": [
       "<div>\n",
       "<style>\n",
       "    .dataframe thead tr:only-child th {\n",
       "        text-align: right;\n",
       "    }\n",
       "\n",
       "    .dataframe thead th {\n",
       "        text-align: left;\n",
       "    }\n",
       "\n",
       "    .dataframe tbody tr th {\n",
       "        vertical-align: top;\n",
       "    }\n",
       "</style>\n",
       "<table border=\"1\" class=\"dataframe\">\n",
       "  <thead>\n",
       "    <tr style=\"text-align: right;\">\n",
       "      <th></th>\n",
       "      <th>review</th>\n",
       "      <th>sentiment</th>\n",
       "    </tr>\n",
       "  </thead>\n",
       "  <tbody>\n",
       "    <tr>\n",
       "      <th>0</th>\n",
       "      <td>Wow... Loved this place.</td>\n",
       "      <td>1</td>\n",
       "    </tr>\n",
       "    <tr>\n",
       "      <th>1</th>\n",
       "      <td>Crust is not good.</td>\n",
       "      <td>0</td>\n",
       "    </tr>\n",
       "    <tr>\n",
       "      <th>2</th>\n",
       "      <td>Not tasty and the texture was just nasty.</td>\n",
       "      <td>0</td>\n",
       "    </tr>\n",
       "    <tr>\n",
       "      <th>3</th>\n",
       "      <td>Stopped by during the late May bank holiday of...</td>\n",
       "      <td>1</td>\n",
       "    </tr>\n",
       "    <tr>\n",
       "      <th>4</th>\n",
       "      <td>The selection on the menu was great and so wer...</td>\n",
       "      <td>1</td>\n",
       "    </tr>\n",
       "  </tbody>\n",
       "</table>\n",
       "</div>"
      ],
      "text/plain": [
       "                                              review  sentiment\n",
       "0                           Wow... Loved this place.          1\n",
       "1                                 Crust is not good.          0\n",
       "2          Not tasty and the texture was just nasty.          0\n",
       "3  Stopped by during the late May bank holiday of...          1\n",
       "4  The selection on the menu was great and so wer...          1"
      ]
     },
     "execution_count": 147,
     "metadata": {},
     "output_type": "execute_result"
    }
   ],
   "source": [
    "# Grab and process the raw data.\n",
    "yelp_raw = pd.read_csv('/Users/teresaoneill/Dropbox/Thinkful/Datasets/yelp_labelled.txt', delimiter= '\\t', header=None, encoding='utf-8')\n",
    "yelp_raw.columns = ['review', 'sentiment']\n",
    "yelp_raw.head()"
   ]
  },
  {
   "cell_type": "markdown",
   "metadata": {},
   "source": [
    "This dataset includes two balanced classes, with 500 observations in each, so we do not need to employ any special sampling strategies."
   ]
  },
  {
   "cell_type": "code",
   "execution_count": 148,
   "metadata": {},
   "outputs": [
    {
     "data": {
      "text/plain": [
       "1    500\n",
       "0    500\n",
       "Name: sentiment, dtype: int64"
      ]
     },
     "execution_count": 148,
     "metadata": {},
     "output_type": "execute_result"
    }
   ],
   "source": [
    "#Check how many datapoints are in each category.\n",
    "yelp_raw['sentiment'].value_counts()"
   ]
  },
  {
   "cell_type": "markdown",
   "metadata": {
    "run_control": {
     "frozen": false,
     "read_only": false
    }
   },
   "source": [
    "For our first try, let's construct a set of keywords for negative sentiment. "
   ]
  },
  {
   "cell_type": "code",
   "execution_count": 149,
   "metadata": {
    "collapsed": true,
    "run_control": {
     "frozen": false,
     "read_only": false
    }
   },
   "outputs": [],
   "source": [
    "keywords_neg = ['suck', 'else', 'wait', 'gross', 'bad', 'waste', 'rude', 'never', 'terrible']\n",
    "\n",
    "for key in keywords_neg:\n",
    "    # Note that we add spaces around the key so that we're getting the word,\n",
    "    # not just pattern matching.\n",
    "    yelp_raw[str(key)] = yelp_raw.review.str.contains(\n",
    "        ' ' + str(key),\n",
    "        case=False\n",
    "    )"
   ]
  },
  {
   "cell_type": "markdown",
   "metadata": {
    "run_control": {
     "frozen": false,
     "read_only": false
    }
   },
   "source": [
    "Let's check how independent these keywords are with a heatmap. The keywords we've chosen are pretty independent, so we're not violating the assumptions of the model. "
   ]
  },
  {
   "cell_type": "code",
   "execution_count": 150,
   "metadata": {
    "run_control": {
     "frozen": false,
     "read_only": false
    }
   },
   "outputs": [
    {
     "data": {
      "text/plain": [
       "<matplotlib.axes._subplots.AxesSubplot at 0x1a164e2ba8>"
      ]
     },
     "execution_count": 150,
     "metadata": {},
     "output_type": "execute_result"
    },
    {
     "data": {
      "image/png": "[encoded data removed]",
      "text/plain": [
       "<matplotlib.figure.Figure at 0x1a164e27b8>"
      ]
     },
     "metadata": {},
     "output_type": "display_data"
    }
   ],
   "source": [
    "sns.heatmap(yelp_raw.corr(), cmap=\"YlGnBu\")"
   ]
  },
  {
   "cell_type": "markdown",
   "metadata": {
    "run_control": {
     "frozen": false,
     "read_only": false
    }
   },
   "source": [
    "Next, let's specify the outcome and input variables, and try the model. \n",
    "\n",
    "### Iteration 1"
   ]
  },
  {
   "cell_type": "code",
   "execution_count": 151,
   "metadata": {
    "collapsed": true,
    "run_control": {
     "frozen": false,
     "read_only": false
    }
   },
   "outputs": [],
   "source": [
    "data = yelp_raw[keywords_neg]\n",
    "target = yelp_raw['sentiment']"
   ]
  },
  {
   "cell_type": "code",
   "execution_count": 152,
   "metadata": {
    "run_control": {
     "frozen": false,
     "read_only": false
    }
   },
   "outputs": [
    {
     "name": "stdout",
     "output_type": "stream",
     "text": [
      "Number of mislabeled points out of a total 1000 points : 417\n"
     ]
    }
   ],
   "source": [
    "# For the binary classifier, we'll use a Bernoulli distribution.\n",
    "from sklearn.naive_bayes import BernoulliNB\n",
    "\n",
    "# Instantiate the model and store it in a new variable.\n",
    "bnb = BernoulliNB()\n",
    "\n",
    "# Fit our model to the data.\n",
    "bnb.fit(data, target)\n",
    "\n",
    "# Classify, storing the result in a new variable.\n",
    "y_pred1 = bnb.predict(data)\n",
    "\n",
    "# Display our results.\n",
    "print(\"Number of mislabeled points out of a total {} points : {}\".format(\n",
    "    data.shape[0],\n",
    "    (target != y_pred1).sum()\n",
    "))\n",
    "\n"
   ]
  },
  {
   "cell_type": "markdown",
   "metadata": {
    "collapsed": true,
    "run_control": {
     "frozen": false,
     "read_only": false
    }
   },
   "source": [
    "So far, the model is faring just a little better than chance, so it needs to be refined. A confusion matrix will narrow in on the model's weakness: sensitivity or specificity. "
   ]
  },
  {
   "cell_type": "code",
   "execution_count": 153,
   "metadata": {},
   "outputs": [
    {
     "name": "stdout",
     "output_type": "stream",
     "text": [
      "[[ 94 406]\n",
      " [ 11 489]]\n",
      "2.2\n",
      "81.2\n"
     ]
    }
   ],
   "source": [
    "from sklearn.metrics import confusion_matrix, f1_score\n",
    "confusion1 = confusion_matrix(target, y_pred1)\n",
    "print(confusion1)\n",
    "\n",
    "type1_error = confusion1[1][0]/(confusion1[1][0]+confusion1[1][1])*100\n",
    "print(type1_error)\n",
    "\n",
    "type2_error = confusion1[0][1]/(confusion1[0][0]+confusion1[0][1])*100\n",
    "print(type2_error)"
   ]
  },
  {
   "cell_type": "markdown",
   "metadata": {},
   "source": [
    "The model's Type 1 error rate is pretty good: only 11 positive reviews were misclassified as negative reviews (2.2%), while the Type 2 error rate is quite high: 94 negative reviews were missed (18.8%).\n",
    "\n",
    "### Iteration 2 ###\n",
    "\n",
    "To refine the model, let's construct a bag of words and examine which unigrams occur most frequently in reviews with each sentiment. We'll start by cleaning and tokenizing the reviews (stripping non-alphabetic characters, casting to lowercase, and separating into words). The CountVectorizer function from sklearn takes care of tokenization. We could manually remove stopwords, but the term frequency - inverse document frequency transformer later should have the same effect."
   ]
  },
  {
   "cell_type": "code",
   "execution_count": 154,
   "metadata": {},
   "outputs": [],
   "source": [
    "#Start by removing nonalphabetic characters and converting to lowercase.\n",
    "\n",
    "yelp_token = yelp_raw['review'].str.replace('[^a-zA-Z]', ' ')\n",
    "yelp_token = yelp_raw['review'].str.lower()\n",
    "#words = yelp_token.str.split(' ')"
   ]
  },
  {
   "cell_type": "markdown",
   "metadata": {},
   "source": [
    "CountVectorizer generates an array where each row is a review from the original dataset, and each column is a word of at least two characters. Each item in the area is a Boolean indicating whether the word is present in that review. Since the highest frequency words contribute little information to the model, we'll transform the dataset so that more informative features are weighted more heavily. \n",
    "\n",
    "As we can see from the shape of the array, there are 1000 reviews (the original dataset) and 2034 unigrams."
   ]
  },
  {
   "cell_type": "code",
   "execution_count": 155,
   "metadata": {},
   "outputs": [
    {
     "name": "stdout",
     "output_type": "stream",
     "text": [
      "(1000, 2034)\n"
     ]
    }
   ],
   "source": [
    "#Use CountVectorizer to generate an array of unigram counts for each review.\n",
    "from sklearn.feature_extraction.text import CountVectorizer\n",
    "vectorizer = CountVectorizer()\n",
    "X = vectorizer.fit_transform(yelp_token)\n",
    "#counts = count_vectorizer.fit_transform(data['text'].values)\n",
    "\n",
    "#Use term frequency - inverse document frequency transformation to weight more informative unigrams.\n",
    "from sklearn.feature_extraction.text import TfidfTransformer\n",
    "tfidf_transformer = TfidfTransformer().fit(X)\n",
    "X_tfidf = tfidf_transformer.transform(X)\n",
    "\n",
    "#Take a look at the shape of the array.\n",
    "print(X_tfidf.shape)"
   ]
  },
  {
   "cell_type": "markdown",
   "metadata": {},
   "source": [
    "Next, we'll refit the model using the transformed unigram array instead of the manually constructed list of negative keywords from Iteration 1. This model correctly accounts for 945/1000 datapoints: an accuracy of 94.5%--much better than our first model!\n",
    "\n",
    "**Question:** How do we test the assumption of independence in a bag of words model like this? What's the best way to look under the hood and see which words are doing the work?"
   ]
  },
  {
   "cell_type": "code",
   "execution_count": 156,
   "metadata": {},
   "outputs": [
    {
     "name": "stdout",
     "output_type": "stream",
     "text": [
      "Number of mislabeled points out of a total 1000 points : 55\n"
     ]
    }
   ],
   "source": [
    "#Refit the model using tfidf in place of the manually constructed keywords list.\n",
    "bnb.fit(X_tfidf, target)\n",
    "y_pred2 = bnb.predict(X_tfidf)\n",
    "\n",
    "#Read out the result.\n",
    "print(\"Number of mislabeled points out of a total {} points : {}\".format(\n",
    "    data.shape[0],\n",
    "    (target != y_pred2).sum()\n",
    "))"
   ]
  },
  {
   "cell_type": "markdown",
   "metadata": {},
   "source": [
    "Let's evaluate the model using a confusion matrix, to see where it can be improved. The Type 1 and 2 error rates are actually quite similar (5.8% and 5.2%, respectively). This is a really strong model."
   ]
  },
  {
   "cell_type": "code",
   "execution_count": 157,
   "metadata": {},
   "outputs": [
    {
     "name": "stdout",
     "output_type": "stream",
     "text": [
      "[[474  26]\n",
      " [ 29 471]]\n",
      "5.8\n",
      "5.2\n"
     ]
    }
   ],
   "source": [
    "#Evaluate the result in a confusion matrix.\n",
    "confusion2 = confusion_matrix(target, y_pred2)\n",
    "print(confusion2)\n",
    "\n",
    "type1_error = confusion2[1][0]/(confusion2[1][0]+confusion2[1][1])*100\n",
    "print(type1_error)\n",
    "\n",
    "type2_error = confusion2[0][1]/(confusion2[0][0]+confusion2[0][1])*100\n",
    "print(type2_error)"
   ]
  },
  {
   "cell_type": "markdown",
   "metadata": {},
   "source": [
    "**The big problem**: Since it was constructed using the entire dataset, it suffers from overfitting. The model is built on the basis of all the data in the yelp reviews corpus, so we expect it to fare well with the yelp review corpus. If we apply it to unseen data, say, the Amazon review corpus, we will not expect the same performance. Let's run through the process, fitting the model to the Amazon data, to demonstrate the problem. \n",
    "\n",
    "First, read in the Amazon data, and confirm that it has the same content and shape as the Yelp data."
   ]
  },
  {
   "cell_type": "code",
   "execution_count": 158,
   "metadata": {},
   "outputs": [
    {
     "name": "stdout",
     "output_type": "stream",
     "text": [
      "1    500\n",
      "0    500\n",
      "Name: sentiment, dtype: int64\n"
     ]
    },
    {
     "data": {
      "text/html": [
       "<div>\n",
       "<style>\n",
       "    .dataframe thead tr:only-child th {\n",
       "        text-align: right;\n",
       "    }\n",
       "\n",
       "    .dataframe thead th {\n",
       "        text-align: left;\n",
       "    }\n",
       "\n",
       "    .dataframe tbody tr th {\n",
       "        vertical-align: top;\n",
       "    }\n",
       "</style>\n",
       "<table border=\"1\" class=\"dataframe\">\n",
       "  <thead>\n",
       "    <tr style=\"text-align: right;\">\n",
       "      <th></th>\n",
       "      <th>review</th>\n",
       "      <th>sentiment</th>\n",
       "    </tr>\n",
       "  </thead>\n",
       "  <tbody>\n",
       "    <tr>\n",
       "      <th>0</th>\n",
       "      <td>So there is no way for me to plug it in here i...</td>\n",
       "      <td>0</td>\n",
       "    </tr>\n",
       "    <tr>\n",
       "      <th>1</th>\n",
       "      <td>Good case, Excellent value.</td>\n",
       "      <td>1</td>\n",
       "    </tr>\n",
       "    <tr>\n",
       "      <th>2</th>\n",
       "      <td>Great for the jawbone.</td>\n",
       "      <td>1</td>\n",
       "    </tr>\n",
       "    <tr>\n",
       "      <th>3</th>\n",
       "      <td>Tied to charger for conversations lasting more...</td>\n",
       "      <td>0</td>\n",
       "    </tr>\n",
       "    <tr>\n",
       "      <th>4</th>\n",
       "      <td>The mic is great.</td>\n",
       "      <td>1</td>\n",
       "    </tr>\n",
       "  </tbody>\n",
       "</table>\n",
       "</div>"
      ],
      "text/plain": [
       "                                              review  sentiment\n",
       "0  So there is no way for me to plug it in here i...          0\n",
       "1                        Good case, Excellent value.          1\n",
       "2                             Great for the jawbone.          1\n",
       "3  Tied to charger for conversations lasting more...          0\n",
       "4                                  The mic is great.          1"
      ]
     },
     "execution_count": 158,
     "metadata": {},
     "output_type": "execute_result"
    }
   ],
   "source": [
    "amazon_raw = pd.read_csv('/Users/teresaoneill/Dropbox/Thinkful/Datasets/amazon_cells_labelled.txt', delimiter= '\\t', header=None, encoding='utf-8')\n",
    "amazon_raw.columns = ['review', 'sentiment']\n",
    "print(amazon_raw['sentiment'].value_counts())\n",
    "amazon_raw.head()"
   ]
  },
  {
   "cell_type": "code",
   "execution_count": 159,
   "metadata": {},
   "outputs": [
    {
     "name": "stdout",
     "output_type": "stream",
     "text": [
      "Number of mislabeled points out of a total 1000 points : 119\n",
      "[[423  77]\n",
      " [ 42 458]]\n",
      "8.4\n",
      "15.4\n"
     ]
    }
   ],
   "source": [
    "#Create a variable to store the Amazon target data.\n",
    "target_am = amazon_raw['sentiment']\n",
    "\n",
    "#Refit the model, using the overfitted features from the Yelp dataset.\n",
    "bnb.fit(X_tfidf, target_am)\n",
    "y_pred_am = bnb.predict(X_tfidf)\n",
    "\n",
    "#Read out the result.\n",
    "print(\"Number of mislabeled points out of a total {} points : {}\".format(\n",
    "    data.shape[0],\n",
    "    (target_am != y_pred_am).sum()\n",
    "))\n",
    "\n",
    "#Evaluate the result in a confusion matrix.\n",
    "confusion_am = confusion_matrix(target_am, y_pred_am)\n",
    "print(confusion_am)\n",
    "\n",
    "type1_error = confusion_am[1][0]/(confusion_am[1][0]+confusion_am[1][1])*100\n",
    "print(type1_error)\n",
    "\n",
    "type2_error = confusion_am[0][1]/(confusion_am[0][0]+confusion_am[0][1])*100\n",
    "print(type2_error)"
   ]
  },
  {
   "cell_type": "markdown",
   "metadata": {},
   "source": [
    "Although the model performed very well on its Yelp training data, when confronted with unseen data, its performance isn't quite as good. Its Type 2 error rate jumped to 15.4%: the classifier is not specific enough.\n",
    "\n",
    "To improve the predictive power of the model, we need to divide the data into a training set and a test set, and cross-validate. Let's go back to the Yelp dataset, and try again.\n",
    "\n",
    "### Iteration 3 ###\n",
    "\n",
    "Let's rerun the model, cross-validating it using 5 folds. "
   ]
  },
  {
   "cell_type": "code",
   "execution_count": 160,
   "metadata": {},
   "outputs": [
    {
     "name": "stdout",
     "output_type": "stream",
     "text": [
      "Total reviews classified: 1000\n",
      "Score: 0.762921130068\n",
      "Confusion matrix:\n",
      "[[356 144]\n",
      " [ 93 407]]\n",
      "18.6\n",
      "28.8\n"
     ]
    }
   ],
   "source": [
    "#Collapse the bag of words vectorizer, tfidf transformer, and NB classifier into one operation.\n",
    "\n",
    "from sklearn.pipeline import Pipeline\n",
    "\n",
    "pipeline = Pipeline([\n",
    "    ('vectorizer',  CountVectorizer()),\n",
    "    ('tfidf', TfidfTransformer()),\n",
    "    ('classifier',  BernoulliNB()) ])\n",
    "\n",
    "#Cross-validate using the k-folds method.\n",
    "\n",
    "from sklearn.cross_validation import KFold\n",
    "\n",
    "k_fold = KFold(n=len(yelp_raw), n_folds=5)\n",
    "scores = []\n",
    "confusion3 = np.array([[0, 0], [0, 0]])\n",
    "for train_indices, test_indices in k_fold:\n",
    "    train_text = yelp_raw.iloc[train_indices]['review'].values\n",
    "    train_y = yelp_raw.iloc[train_indices]['sentiment'].values\n",
    "\n",
    "    test_text = yelp_raw.iloc[test_indices]['review'].values\n",
    "    test_y = yelp_raw.iloc[test_indices]['sentiment'].values\n",
    "\n",
    "    pipeline.fit(train_text, train_y)\n",
    "    predictions = pipeline.predict(test_text)\n",
    "\n",
    "    confusion3 += confusion_matrix(test_y, predictions)\n",
    "    score3 = f1_score(test_y, predictions)\n",
    "    scores.append(score3)\n",
    "\n",
    "print('Total reviews classified:', len(yelp_raw))\n",
    "print('Score:', sum(scores)/len(scores))\n",
    "print('Confusion matrix:')\n",
    "print(confusion3)\n",
    "\n",
    "type1_error = confusion3[1][0]/(confusion3[1][0]+confusion3[1][1])*100\n",
    "print(type1_error)\n",
    "\n",
    "type2_error = confusion3[0][1]/(confusion3[0][0]+confusion3[0][1])*100\n",
    "print(type2_error)"
   ]
  },
  {
   "cell_type": "markdown",
   "metadata": {},
   "source": [
    "After cross-validation over 5 folds of the data, we end up with a much less accurate classifier. Its Type 1 error rate is now 18.6%, and Type 2 error is 28.8%. \n",
    "\n",
    "** Question:** Why did it get so much worse with cross-validation? I understand that this means there is less data available for training the model, but this loss of accuracy is pretty bad!\n",
    "\n",
    "### Iteration 4 ###\n",
    "\n",
    "That didn't go so well! Let's try again, enriching the model with bigrams. Because of examples like, \"not disappointed,\" simple unigrams (e.g., \"disappointed\") might not be strong enough. Adding bigrams will increase the model's complexity, but it should improve upon unigrams. \n"
   ]
  },
  {
   "cell_type": "code",
   "execution_count": 161,
   "metadata": {},
   "outputs": [
    {
     "name": "stdout",
     "output_type": "stream",
     "text": [
      "Total reviews classified: 1000\n",
      "Score: 0.742006076294\n",
      "Confusion matrix:\n",
      "[[297 203]\n",
      " [ 84 416]]\n",
      "16.8\n",
      "40.6\n"
     ]
    }
   ],
   "source": [
    "#Try again, this time with bigrams.\n",
    "\n",
    "pipeline = Pipeline([\n",
    "    ('vectorizer',  CountVectorizer(ngram_range=(1, 2))),\n",
    "    ('tfidf', TfidfTransformer()),\n",
    "    ('classifier',  BernoulliNB()) ])\n",
    "\n",
    "#Cross-validate using the k-folds method.\n",
    "\n",
    "k_fold = KFold(n=len(yelp_raw), n_folds=5)\n",
    "scores = []\n",
    "confusion4 = np.array([[0, 0], [0, 0]])\n",
    "for train_indices, test_indices in k_fold:\n",
    "    train_text = yelp_raw.iloc[train_indices]['review'].values\n",
    "    train_y = yelp_raw.iloc[train_indices]['sentiment'].values\n",
    "\n",
    "    test_text = yelp_raw.iloc[test_indices]['review'].values\n",
    "    test_y = yelp_raw.iloc[test_indices]['sentiment'].values\n",
    "\n",
    "    pipeline.fit(train_text, train_y)\n",
    "    predictions = pipeline.predict(test_text)\n",
    "\n",
    "    confusion4 += confusion_matrix(test_y, predictions)\n",
    "    score4 = f1_score(test_y, predictions)\n",
    "    scores.append(score4)\n",
    "\n",
    "print('Total reviews classified:', len(yelp_raw))\n",
    "print('Score:', sum(scores)/len(scores))\n",
    "print('Confusion matrix:')\n",
    "print(confusion4)\n",
    "\n",
    "type1_error = confusion4[1][0]/(confusion4[1][0]+confusion4[1][1])*100\n",
    "print(type1_error)\n",
    "\n",
    "type2_error = confusion4[0][1]/(confusion4[0][0]+confusion4[0][1])*100\n",
    "print(type2_error)"
   ]
  },
  {
   "cell_type": "markdown",
   "metadata": {},
   "source": [
    "Yikes! This result is even worse. With bigrams in the mix, the classifier is misclassifying 40.6% of negative reviews as positive. Why is this the case? \n",
    "\n",
    "**NOTE: I don't understand why it's getting so much worse...**\n",
    "\n",
    "One thing we can try is controlling for the length of the review, binarizing the classifier so that reviews with more instances of a given features are not weighted differently from those with just one instance. Let's try that on the unigram model, and see what happens. "
   ]
  },
  {
   "cell_type": "code",
   "execution_count": 162,
   "metadata": {},
   "outputs": [
    {
     "name": "stdout",
     "output_type": "stream",
     "text": [
      "Total reviews classified: 1000\n",
      "Score: 0.436363636364\n",
      "Confusion matrix:\n",
      "[[356 144]\n",
      " [ 93 407]]\n",
      "18.6\n",
      "28.8\n"
     ]
    }
   ],
   "source": [
    "#Try again, this time with bigrams.\n",
    "\n",
    "pipeline = Pipeline([\n",
    "    ('vectorizer',  CountVectorizer()),\n",
    "    ('tfidf', TfidfTransformer()),\n",
    "    ('classifier',  BernoulliNB(binarize=0.0)) ])\n",
    "\n",
    "#Cross-validate using the k-folds method.\n",
    "\n",
    "k_fold = KFold(n=len(yelp_raw), n_folds=5)\n",
    "scores = []\n",
    "confusion5 = np.array([[0, 0], [0, 0]])\n",
    "for train_indices, test_indices in k_fold:\n",
    "    train_text = yelp_raw.iloc[train_indices]['review'].values\n",
    "    train_y = yelp_raw.iloc[train_indices]['sentiment'].values\n",
    "\n",
    "    test_text = yelp_raw.iloc[test_indices]['review'].values\n",
    "    test_y = yelp_raw.iloc[test_indices]['sentiment'].values\n",
    "\n",
    "    pipeline.fit(train_text, train_y)\n",
    "    predictions = pipeline.predict(test_text)\n",
    "\n",
    "    confusion5 += confusion_matrix(test_y, predictions)\n",
    "    score5 = f1_score(test_y, predictions)\n",
    "    scores.append(score4)\n",
    "\n",
    "print('Total reviews classified:', len(yelp_raw))\n",
    "print('Score:', sum(scores)/len(scores))\n",
    "print('Confusion matrix:')\n",
    "print(confusion5)\n",
    "\n",
    "type1_error = confusion5[1][0]/(confusion5[1][0]+confusion5[1][1])*100\n",
    "print(type1_error)\n",
    "\n",
    "type2_error = confusion5[0][1]/(confusion5[0][0]+confusion5[0][1])*100\n",
    "print(type2_error)"
   ]
  },
  {
   "cell_type": "markdown",
   "metadata": {},
   "source": [
    "Now we're back where we started from in Iteration 3. Binarizing the classifier doesn't seem to make a difference. Since the reviews are generally rather short, this is not surprising. Binarizing might be more important in a context like spam email classification, where there is more variance in length.\n",
    "\n",
    "### Summary ###\n",
    "\n",
    "After 5 iterations, implementing cross-validation to avoid overfitting the model, we have not gained any predictive power. In the session, I'd like to check in about why I might've gotten this result, and about how I can look under the hood of the model to see which features are being extracted after the tf-idf transformation. \n"
   ]
  }
 ],
 "metadata": {
  "hide_input": false,
  "kernelspec": {
   "display_name": "Python 3",
   "language": "python",
   "name": "python3"
  },
  "language_info": {
   "codemirror_mode": {
    "name": "ipython",
    "version": 3
   },
   "file_extension": ".py",
   "mimetype": "text/x-python",
   "name": "python",
   "nbconvert_exporter": "python",
   "pygments_lexer": "ipython3",
   "version": "3.6.2"
  },
  "toc": {
   "colors": {
    "hover_highlight": "#DAA520",
    "running_highlight": "#FF0000",
    "selected_highlight": "#FFD700"
   },
   "moveMenuLeft": true,
   "nav_menu": {
    "height": "49px",
    "width": "252px"
   },
   "navigate_menu": true,
   "number_sections": true,
   "sideBar": true,
   "threshold": 4,
   "toc_cell": false,
   "toc_section_display": "block",
   "toc_window_display": false
  }
 },
 "nbformat": 4,
 "nbformat_minor": 2
}
