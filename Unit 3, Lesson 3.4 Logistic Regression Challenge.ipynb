{
 "cells": [
  {
   "cell_type": "markdown",
   "metadata": {},
   "source": [
    "# Logistic Regression Challenge\n",
    "\n",
    "In this challenge, we'll compare the success of \"vanilla\" logistic regression, ridge regression, and lasso regression as classifiers. We will work with census data available from the UCI repository. The dataset indluces 15 variables: for the dependent variable, we'll attempt to classify individuals' incomes as less than \\$50,000 or greater than or equal to \\$50,000. The independent variables in the dataset include demogrpahic characteristics, census sampling weight, capital gains and losses, hours of work per week, and country of origin. "
   ]
  },
  {
   "cell_type": "code",
   "execution_count": 1,
   "metadata": {},
   "outputs": [
    {
     "name": "stderr",
     "output_type": "stream",
     "text": [
      "/Users/teresaoneill/anaconda3/lib/python3.6/site-packages/statsmodels/compat/pandas.py:56: FutureWarning: The pandas.core.datetools module is deprecated and will be removed in a future version. Please use the pandas.tseries module instead.\n",
      "  from pandas.core import datetools\n"
     ]
    }
   ],
   "source": [
    "import pandas as pd\n",
    "from matplotlib import pyplot as plt\n",
    "import seaborn as sns\n",
    "%matplotlib inline\n",
    "sns.set_style('white')\n",
    "import numpy as np\n",
    "import math\n",
    "import statsmodels.api as sm\n",
    "\n",
    "import sklearn\n",
    "from sklearn import preprocessing\n",
    "from sklearn.preprocessing import StandardScaler\n",
    "from sklearn import linear_model\n",
    "from sklearn.decomposition import PCA \n",
    "from sklearn.linear_model import LogisticRegression\n",
    "from sklearn.model_selection import train_test_split\n",
    "from sklearn.model_selection import cross_val_score"
   ]
  },
  {
   "cell_type": "code",
   "execution_count": 2,
   "metadata": {},
   "outputs": [
    {
     "name": "stdout",
     "output_type": "stream",
     "text": [
      "32561\n"
     ]
    },
    {
     "data": {
      "text/html": [
       "<div>\n",
       "<style>\n",
       "    .dataframe thead tr:only-child th {\n",
       "        text-align: right;\n",
       "    }\n",
       "\n",
       "    .dataframe thead th {\n",
       "        text-align: left;\n",
       "    }\n",
       "\n",
       "    .dataframe tbody tr th {\n",
       "        vertical-align: top;\n",
       "    }\n",
       "</style>\n",
       "<table border=\"1\" class=\"dataframe\">\n",
       "  <thead>\n",
       "    <tr style=\"text-align: right;\">\n",
       "      <th></th>\n",
       "      <th>Age</th>\n",
       "      <th>WorkClass</th>\n",
       "      <th>fnwgt</th>\n",
       "      <th>Education</th>\n",
       "      <th>EducationNum</th>\n",
       "      <th>Marital</th>\n",
       "      <th>Occupation</th>\n",
       "      <th>Relationship</th>\n",
       "      <th>Race</th>\n",
       "      <th>Sex</th>\n",
       "      <th>CapGain</th>\n",
       "      <th>CapLoss</th>\n",
       "      <th>Hrs</th>\n",
       "      <th>Country</th>\n",
       "      <th>Income</th>\n",
       "    </tr>\n",
       "  </thead>\n",
       "  <tbody>\n",
       "    <tr>\n",
       "      <th>0</th>\n",
       "      <td>39</td>\n",
       "      <td>State-gov</td>\n",
       "      <td>77516</td>\n",
       "      <td>Bachelors</td>\n",
       "      <td>13</td>\n",
       "      <td>Never-married</td>\n",
       "      <td>Adm-clerical</td>\n",
       "      <td>Not-in-family</td>\n",
       "      <td>White</td>\n",
       "      <td>Male</td>\n",
       "      <td>2174</td>\n",
       "      <td>0</td>\n",
       "      <td>40</td>\n",
       "      <td>United-States</td>\n",
       "      <td>&lt;=50K</td>\n",
       "    </tr>\n",
       "    <tr>\n",
       "      <th>1</th>\n",
       "      <td>50</td>\n",
       "      <td>Self-emp-not-inc</td>\n",
       "      <td>83311</td>\n",
       "      <td>Bachelors</td>\n",
       "      <td>13</td>\n",
       "      <td>Married-civ-spouse</td>\n",
       "      <td>Exec-managerial</td>\n",
       "      <td>Husband</td>\n",
       "      <td>White</td>\n",
       "      <td>Male</td>\n",
       "      <td>0</td>\n",
       "      <td>0</td>\n",
       "      <td>13</td>\n",
       "      <td>United-States</td>\n",
       "      <td>&lt;=50K</td>\n",
       "    </tr>\n",
       "    <tr>\n",
       "      <th>2</th>\n",
       "      <td>38</td>\n",
       "      <td>Private</td>\n",
       "      <td>215646</td>\n",
       "      <td>HS-grad</td>\n",
       "      <td>9</td>\n",
       "      <td>Divorced</td>\n",
       "      <td>Handlers-cleaners</td>\n",
       "      <td>Not-in-family</td>\n",
       "      <td>White</td>\n",
       "      <td>Male</td>\n",
       "      <td>0</td>\n",
       "      <td>0</td>\n",
       "      <td>40</td>\n",
       "      <td>United-States</td>\n",
       "      <td>&lt;=50K</td>\n",
       "    </tr>\n",
       "    <tr>\n",
       "      <th>3</th>\n",
       "      <td>53</td>\n",
       "      <td>Private</td>\n",
       "      <td>234721</td>\n",
       "      <td>11th</td>\n",
       "      <td>7</td>\n",
       "      <td>Married-civ-spouse</td>\n",
       "      <td>Handlers-cleaners</td>\n",
       "      <td>Husband</td>\n",
       "      <td>Black</td>\n",
       "      <td>Male</td>\n",
       "      <td>0</td>\n",
       "      <td>0</td>\n",
       "      <td>40</td>\n",
       "      <td>United-States</td>\n",
       "      <td>&lt;=50K</td>\n",
       "    </tr>\n",
       "    <tr>\n",
       "      <th>4</th>\n",
       "      <td>28</td>\n",
       "      <td>Private</td>\n",
       "      <td>338409</td>\n",
       "      <td>Bachelors</td>\n",
       "      <td>13</td>\n",
       "      <td>Married-civ-spouse</td>\n",
       "      <td>Prof-specialty</td>\n",
       "      <td>Wife</td>\n",
       "      <td>Black</td>\n",
       "      <td>Female</td>\n",
       "      <td>0</td>\n",
       "      <td>0</td>\n",
       "      <td>40</td>\n",
       "      <td>Cuba</td>\n",
       "      <td>&lt;=50K</td>\n",
       "    </tr>\n",
       "  </tbody>\n",
       "</table>\n",
       "</div>"
      ],
      "text/plain": [
       "   Age         WorkClass   fnwgt  Education  EducationNum             Marital  \\\n",
       "0   39         State-gov   77516  Bachelors            13       Never-married   \n",
       "1   50  Self-emp-not-inc   83311  Bachelors            13  Married-civ-spouse   \n",
       "2   38           Private  215646    HS-grad             9            Divorced   \n",
       "3   53           Private  234721       11th             7  Married-civ-spouse   \n",
       "4   28           Private  338409  Bachelors            13  Married-civ-spouse   \n",
       "\n",
       "          Occupation   Relationship   Race     Sex  CapGain  CapLoss  Hrs  \\\n",
       "0       Adm-clerical  Not-in-family  White    Male     2174        0   40   \n",
       "1    Exec-managerial        Husband  White    Male        0        0   13   \n",
       "2  Handlers-cleaners  Not-in-family  White    Male        0        0   40   \n",
       "3  Handlers-cleaners        Husband  Black    Male        0        0   40   \n",
       "4     Prof-specialty           Wife  Black  Female        0        0   40   \n",
       "\n",
       "         Country Income  \n",
       "0  United-States  <=50K  \n",
       "1  United-States  <=50K  \n",
       "2  United-States  <=50K  \n",
       "3  United-States  <=50K  \n",
       "4           Cuba  <=50K  "
      ]
     },
     "execution_count": 2,
     "metadata": {},
     "output_type": "execute_result"
    }
   ],
   "source": [
    "#Read in the data.\n",
    "df = pd.read_csv('/Users/teresaoneill/Dropbox/Thinkful/Datasets/adult_data.csv', encoding='utf-8')\n",
    "print(len(df))\n",
    "df.head()"
   ]
  },
  {
   "cell_type": "markdown",
   "metadata": {},
   "source": [
    "### Data cleaning and feature exploration\n",
    "\n",
    "The dependent variable is not composed of balanced classes: approxmiately three times as many individuals earn less than 50k than earn more than 50k."
   ]
  },
  {
   "cell_type": "code",
   "execution_count": 3,
   "metadata": {},
   "outputs": [],
   "source": [
    "#Inspect outcome variable.\n",
    "df['Income'].value_counts()\n",
    "df['Income'] = np.where(df['Income']=='<=50K', 0, 1)"
   ]
  },
  {
   "cell_type": "markdown",
   "metadata": {},
   "source": [
    "There do not appear to be any missing values; however, the 99999 maximum in Capital Gains is suspicious--it may represent missing values.\n",
    "\n",
    "**NOTE, I cannot figure out how to get these models to handle missing values, so I've reset the 99999s to 0s, rather than NaNs. I'd like to learn how to deal with this issue. "
   ]
  },
  {
   "cell_type": "code",
   "execution_count": 4,
   "metadata": {},
   "outputs": [
    {
     "name": "stdout",
     "output_type": "stream",
     "text": [
      "count    32561.000000\n",
      "mean        38.581647\n",
      "std         13.640433\n",
      "min         17.000000\n",
      "25%         28.000000\n",
      "50%         37.000000\n",
      "75%         48.000000\n",
      "max         90.000000\n",
      "Name: Age, dtype: float64\n",
      "count       32561\n",
      "unique          9\n",
      "top       Private\n",
      "freq        22696\n",
      "Name: WorkClass, dtype: object\n",
      "count    3.256100e+04\n",
      "mean     1.897784e+05\n",
      "std      1.055500e+05\n",
      "min      1.228500e+04\n",
      "25%      1.178270e+05\n",
      "50%      1.783560e+05\n",
      "75%      2.370510e+05\n",
      "max      1.484705e+06\n",
      "Name: fnwgt, dtype: float64\n",
      "count       32561\n",
      "unique         16\n",
      "top       HS-grad\n",
      "freq        10501\n",
      "Name: Education, dtype: object\n",
      "count    32561.000000\n",
      "mean        10.080679\n",
      "std          2.572720\n",
      "min          1.000000\n",
      "25%          9.000000\n",
      "50%         10.000000\n",
      "75%         12.000000\n",
      "max         16.000000\n",
      "Name: EducationNum, dtype: float64\n",
      "count                  32561\n",
      "unique                     7\n",
      "top       Married-civ-spouse\n",
      "freq                   14976\n",
      "Name: Marital, dtype: object\n",
      "count              32561\n",
      "unique                15\n",
      "top       Prof-specialty\n",
      "freq                4140\n",
      "Name: Occupation, dtype: object\n",
      "count       32561\n",
      "unique          6\n",
      "top       Husband\n",
      "freq        13193\n",
      "Name: Relationship, dtype: object\n",
      "count     32561\n",
      "unique        5\n",
      "top       White\n",
      "freq      27816\n",
      "Name: Race, dtype: object\n",
      "count     32561\n",
      "unique        2\n",
      "top        Male\n",
      "freq      21790\n",
      "Name: Sex, dtype: object\n",
      "count    32561.000000\n",
      "mean      1077.648844\n",
      "std       7385.292085\n",
      "min          0.000000\n",
      "25%          0.000000\n",
      "50%          0.000000\n",
      "75%          0.000000\n",
      "max      99999.000000\n",
      "Name: CapGain, dtype: float64\n",
      "count    32561.000000\n",
      "mean        87.303830\n",
      "std        402.960219\n",
      "min          0.000000\n",
      "25%          0.000000\n",
      "50%          0.000000\n",
      "75%          0.000000\n",
      "max       4356.000000\n",
      "Name: CapLoss, dtype: float64\n",
      "count    32561.000000\n",
      "mean        40.437456\n",
      "std         12.347429\n",
      "min          1.000000\n",
      "25%         40.000000\n",
      "50%         40.000000\n",
      "75%         45.000000\n",
      "max         99.000000\n",
      "Name: Hrs, dtype: float64\n",
      "count             32561\n",
      "unique               42\n",
      "top       United-States\n",
      "freq              29170\n",
      "Name: Country, dtype: object\n",
      "count    32561.000000\n",
      "mean         0.240810\n",
      "std          0.427581\n",
      "min          0.000000\n",
      "25%          0.000000\n",
      "50%          0.000000\n",
      "75%          0.000000\n",
      "max          1.000000\n",
      "Name: Income, dtype: float64\n"
     ]
    }
   ],
   "source": [
    "for col in df.columns:\n",
    "    print(df[col].describe())"
   ]
  },
  {
   "cell_type": "code",
   "execution_count": 5,
   "metadata": {},
   "outputs": [
    {
     "data": {
      "text/plain": [
       "count    32561.000000\n",
       "mean       589.339486\n",
       "std       2554.334160\n",
       "min          0.000000\n",
       "25%          0.000000\n",
       "50%          0.000000\n",
       "75%          0.000000\n",
       "max      41310.000000\n",
       "Name: CapGain, dtype: float64"
      ]
     },
     "execution_count": 5,
     "metadata": {},
     "output_type": "execute_result"
    }
   ],
   "source": [
    "#Check CapGain for anomalies.\n",
    "df['CapGain'] = df['CapGain'].sort_values()\n",
    "df['CapGain'].value_counts()\n",
    "\n",
    "#Drop 99999 as missing.\n",
    "df[df['CapGain'] == 99999] = 0\n",
    "df['CapGain'].describe()"
   ]
  },
  {
   "cell_type": "markdown",
   "metadata": {},
   "source": [
    "The continuous variables show a few different distributions. Age is slightly right-skewed and sampling weight is extremely right-skewed. Capital gains and losses are primarily made up of 0 values. "
   ]
  },
  {
   "cell_type": "code",
   "execution_count": 6,
   "metadata": {},
   "outputs": [
    {
     "data": {
      "image/png": "[encoded data removed]",
      "text/plain": [
       "<matplotlib.figure.Figure at 0x111dc0e80>"
      ]
     },
     "metadata": {},
     "output_type": "display_data"
    },
    {
     "data": {
      "image/png": "[encoded data removed]",
      "text/plain": [
       "<matplotlib.figure.Figure at 0x111def6d8>"
      ]
     },
     "metadata": {},
     "output_type": "display_data"
    },
    {
     "data": {
      "image/png": "[encoded data removed]",
      "text/plain": [
       "<matplotlib.figure.Figure at 0x111147518>"
      ]
     },
     "metadata": {},
     "output_type": "display_data"
    },
    {
     "data": {
      "image/png": "[encoded data removed]",
      "text/plain": [
       "<matplotlib.figure.Figure at 0x10a3b09e8>"
      ]
     },
     "metadata": {},
     "output_type": "display_data"
    },
    {
     "data": {
      "image/png": "[encoded data removed]",
      "text/plain": [
       "<matplotlib.figure.Figure at 0x111d58b00>"
      ]
     },
     "metadata": {},
     "output_type": "display_data"
    },
    {
     "data": {
      "image/png": "[encoded data removed]",
      "text/plain": [
       "<matplotlib.figure.Figure at 0x110941f28>"
      ]
     },
     "metadata": {},
     "output_type": "display_data"
    },
    {
     "data": {
      "image/png": "[encoded data removed]",
      "text/plain": [
       "<matplotlib.figure.Figure at 0x111a37550>"
      ]
     },
     "metadata": {},
     "output_type": "display_data"
    }
   ],
   "source": [
    "df_num = df._get_numeric_data()\n",
    "for col in df_num.columns:\n",
    "    sns.kdeplot(df_num[col], lw=3)\n",
    "    plt.show()"
   ]
  },
  {
   "cell_type": "code",
   "execution_count": 7,
   "metadata": {},
   "outputs": [
    {
     "name": "stdout",
     "output_type": "stream",
     "text": [
      "                   Age     fnwgt  EducationNum   CapGain   CapLoss       Hrs  \\\n",
      "Age           1.000000 -0.050731      0.082730  0.117427  0.060350  0.108016   \n",
      "fnwgt        -0.050731  1.000000     -0.008782 -0.002457 -0.008271  0.008906   \n",
      "EducationNum  0.082730 -0.008782      1.000000  0.144804  0.082635  0.194234   \n",
      "CapGain       0.117427 -0.002457      0.144804  1.000000 -0.049989  0.084457   \n",
      "CapLoss       0.060350 -0.008271      0.082635 -0.049989  1.000000  0.057270   \n",
      "Hrs           0.108016  0.008906      0.194234  0.084457  0.057270  1.000000   \n",
      "Income        0.234391 -0.004889      0.328134  0.311083  0.154081  0.228534   \n",
      "\n",
      "                Income  \n",
      "Age           0.234391  \n",
      "fnwgt        -0.004889  \n",
      "EducationNum  0.328134  \n",
      "CapGain       0.311083  \n",
      "CapLoss       0.154081  \n",
      "Hrs           0.228534  \n",
      "Income        1.000000  \n"
     ]
    },
    {
     "data": {
      "image/png": "[encoded data removed]",
      "text/plain": [
       "<matplotlib.figure.Figure at 0x10b108198>"
      ]
     },
     "metadata": {},
     "output_type": "display_data"
    }
   ],
   "source": [
    "# Make the correlation matrix.\n",
    "corrmat = df.corr()\n",
    "print(corrmat)\n",
    "\n",
    "# Set up the matplotlib figure.\n",
    "f, ax = plt.subplots(figsize=(12, 9))\n",
    "\n",
    "# Draw the heatmap using seaborn.\n",
    "sns.heatmap(corrmat, vmax=0.8, square=True, cmap=\"YlGnBu\")\n",
    "plt.show()"
   ]
  },
  {
   "cell_type": "code",
   "execution_count": 8,
   "metadata": {},
   "outputs": [
    {
     "data": {
      "text/html": [
       "<div>\n",
       "<style>\n",
       "    .dataframe thead tr:only-child th {\n",
       "        text-align: right;\n",
       "    }\n",
       "\n",
       "    .dataframe thead th {\n",
       "        text-align: left;\n",
       "    }\n",
       "\n",
       "    .dataframe tbody tr th {\n",
       "        vertical-align: top;\n",
       "    }\n",
       "</style>\n",
       "<table border=\"1\" class=\"dataframe\">\n",
       "  <thead>\n",
       "    <tr style=\"text-align: right;\">\n",
       "      <th></th>\n",
       "      <th>Income</th>\n",
       "      <th>0</th>\n",
       "      <th>1</th>\n",
       "      <th>All</th>\n",
       "    </tr>\n",
       "    <tr>\n",
       "      <th>Sex</th>\n",
       "      <th>Race</th>\n",
       "      <th></th>\n",
       "      <th></th>\n",
       "      <th></th>\n",
       "    </tr>\n",
       "  </thead>\n",
       "  <tbody>\n",
       "    <tr>\n",
       "      <th>0</th>\n",
       "      <th>0</th>\n",
       "      <td>159</td>\n",
       "      <td>0</td>\n",
       "      <td>159</td>\n",
       "    </tr>\n",
       "    <tr>\n",
       "      <th rowspan=\"5\" valign=\"top\">Female</th>\n",
       "      <th>Amer-Indian-Eskimo</th>\n",
       "      <td>107</td>\n",
       "      <td>12</td>\n",
       "      <td>119</td>\n",
       "    </tr>\n",
       "    <tr>\n",
       "      <th>Asian-Pac-Islander</th>\n",
       "      <td>303</td>\n",
       "      <td>41</td>\n",
       "      <td>344</td>\n",
       "    </tr>\n",
       "    <tr>\n",
       "      <th>Black</th>\n",
       "      <td>1465</td>\n",
       "      <td>86</td>\n",
       "      <td>1551</td>\n",
       "    </tr>\n",
       "    <tr>\n",
       "      <th>Other</th>\n",
       "      <td>103</td>\n",
       "      <td>6</td>\n",
       "      <td>109</td>\n",
       "    </tr>\n",
       "    <tr>\n",
       "      <th>White</th>\n",
       "      <td>7614</td>\n",
       "      <td>1012</td>\n",
       "      <td>8626</td>\n",
       "    </tr>\n",
       "    <tr>\n",
       "      <th rowspan=\"5\" valign=\"top\">Male</th>\n",
       "      <th>Amer-Indian-Eskimo</th>\n",
       "      <td>168</td>\n",
       "      <td>24</td>\n",
       "      <td>192</td>\n",
       "    </tr>\n",
       "    <tr>\n",
       "      <th>Asian-Pac-Islander</th>\n",
       "      <td>460</td>\n",
       "      <td>225</td>\n",
       "      <td>685</td>\n",
       "    </tr>\n",
       "    <tr>\n",
       "      <th>Black</th>\n",
       "      <td>1272</td>\n",
       "      <td>294</td>\n",
       "      <td>1566</td>\n",
       "    </tr>\n",
       "    <tr>\n",
       "      <th>Other</th>\n",
       "      <td>143</td>\n",
       "      <td>17</td>\n",
       "      <td>160</td>\n",
       "    </tr>\n",
       "    <tr>\n",
       "      <th>White</th>\n",
       "      <td>13085</td>\n",
       "      <td>5965</td>\n",
       "      <td>19050</td>\n",
       "    </tr>\n",
       "    <tr>\n",
       "      <th>All</th>\n",
       "      <th></th>\n",
       "      <td>24879</td>\n",
       "      <td>7682</td>\n",
       "      <td>32561</td>\n",
       "    </tr>\n",
       "  </tbody>\n",
       "</table>\n",
       "</div>"
      ],
      "text/plain": [
       "Income                         0     1    All\n",
       "Sex    Race                                  \n",
       "0      0                     159     0    159\n",
       "Female Amer-Indian-Eskimo    107    12    119\n",
       "       Asian-Pac-Islander    303    41    344\n",
       "       Black                1465    86   1551\n",
       "       Other                 103     6    109\n",
       "       White                7614  1012   8626\n",
       "Male   Amer-Indian-Eskimo    168    24    192\n",
       "       Asian-Pac-Islander    460   225    685\n",
       "       Black                1272   294   1566\n",
       "       Other                 143    17    160\n",
       "       White               13085  5965  19050\n",
       "All                        24879  7682  32561"
      ]
     },
     "execution_count": 8,
     "metadata": {},
     "output_type": "execute_result"
    }
   ],
   "source": [
    "pd.crosstab([df['Sex'], df['Race']], df['Income'], margins=True)"
   ]
  },
  {
   "cell_type": "code",
   "execution_count": 9,
   "metadata": {},
   "outputs": [
    {
     "data": {
      "text/plain": [
       "1    19050\n",
       "0    13511\n",
       "Name: WhiteMale, dtype: int64"
      ]
     },
     "execution_count": 9,
     "metadata": {},
     "output_type": "execute_result"
    }
   ],
   "source": [
    "df['WhiteMale'] = np.where((df['Sex']=='Male') & (df['Race']=='White'), 1, 0)\n",
    "df['WhiteMale'].value_counts()"
   ]
  },
  {
   "cell_type": "code",
   "execution_count": 10,
   "metadata": {},
   "outputs": [
    {
     "data": {
      "text/plain": [
       "0    29028\n",
       "1     3533\n",
       "Name: Immigrant, dtype: int64"
      ]
     },
     "execution_count": 10,
     "metadata": {},
     "output_type": "execute_result"
    }
   ],
   "source": [
    "#df['Immigrant'] = 1\n",
    "df['Immigrant'] = np.where(df['Country']=='United-States', 0, 1)\n",
    "df['Immigrant'].value_counts()"
   ]
  },
  {
   "cell_type": "markdown",
   "metadata": {},
   "source": [
    "To accommodate the preponderance of zero values in the capital gains and losses variables, let's add binary variables and then drop the zeros in the continuous versions of the variables, imputing them with the median.\n",
    "\n",
    "**NOTE: I tried dropping the zeros, but then I couldn't run the model; dropping NaN wasn't successful. I also tried imputing the zeros with the median, as in two cells below (with a few different strategies), but that had the effect of changing all categorical values in the dataset to NaNs, so I've left the zeros in place for now.**"
   ]
  },
  {
   "cell_type": "code",
   "execution_count": 11,
   "metadata": {},
   "outputs": [],
   "source": [
    "#df.loc[df['CapLoss'] == 0] = None\n",
    "#df.loc[df['CapGain'] == 0] = None\n",
    "#df = df.fillna(df.median())"
   ]
  },
  {
   "cell_type": "code",
   "execution_count": 12,
   "metadata": {},
   "outputs": [
    {
     "data": {
      "text/plain": [
       "0    28489\n",
       "1     4072\n",
       "Name: Investor, dtype: int64"
      ]
     },
     "execution_count": 12,
     "metadata": {},
     "output_type": "execute_result"
    }
   ],
   "source": [
    "df['Investor'] = np.where((df['CapGain']>0) | (df['CapLoss']>0), 1, 0)\n",
    "df['Investor'].value_counts()"
   ]
  },
  {
   "cell_type": "code",
   "execution_count": 13,
   "metadata": {},
   "outputs": [],
   "source": [
    "X = []\n",
    "X = df.drop('Income', 1)\n",
    "X = pd.get_dummies(X)\n",
    "X = StandardScaler().fit_transform(X)\n",
    "y = df['Income']"
   ]
  },
  {
   "cell_type": "markdown",
   "metadata": {},
   "source": [
    "### Vanilla Logistic Regression"
   ]
  },
  {
   "cell_type": "code",
   "execution_count": 14,
   "metadata": {},
   "outputs": [
    {
     "name": "stdout",
     "output_type": "stream",
     "text": [
      "Coefficients\n",
      "[[  3.54612160e-01   7.70102328e-02   4.34489673e-01   1.76828797e+00\n",
      "    7.47333659e-01   3.71635558e-01  -5.67107441e-02  -5.15496358e-02\n",
      "   -7.99197600e-01  -2.36204815e-02  -6.21956937e-02   1.07040301e-01\n",
      "   -7.39380666e-03  -1.10040237e-01   6.11530434e-02   5.24467924e-02\n",
      "   -9.41588106e-02  -3.63976922e-02  -1.93560340e-01  -2.36204815e-02\n",
      "   -6.70503518e-02  -9.80480763e-02  -2.91198452e-02  -2.54543185e-02\n",
      "   -1.83155437e-02  -6.88778991e-02  -4.68996291e-02  -1.24569238e-02\n",
      "    2.74771867e-02   1.38135406e-01   1.03033624e-01  -3.70251542e-02\n",
      "    1.25471598e-01  -1.38203252e+00   1.14692851e-01   4.15511167e-02\n",
      "   -2.36204815e-02  -2.36075453e-01   5.56348496e-02   7.93631216e-01\n",
      "   -7.91324357e-02  -5.58184959e-01  -1.50336716e-01  -9.90381183e-02\n",
      "   -2.36204815e-02  -6.90728317e-02   5.19846112e-04  -1.90161962e-02\n",
      "    2.25646360e-02   2.56084200e-01  -1.71766691e-01  -1.33716759e-01\n",
      "   -5.87625174e-02  -2.51839933e-01  -5.12246042e-01   1.66545743e-01\n",
      "    7.85014573e-02   8.94411453e-02   1.10460105e-01  -2.58399948e-02\n",
      "   -2.36204815e-02  -9.03672632e-02   1.95942917e-01  -9.79803074e-02\n",
      "   -3.01602388e-01   1.04253045e-01   2.55966931e-01  -2.36204815e-02\n",
      "   -5.36193804e-02   2.36460836e-02  -4.30595365e-02  -3.20014708e-02\n",
      "    5.12203981e-02  -2.36204815e-02  -2.29613070e-01   2.32257315e-01\n",
      "   -2.36204815e-02  -6.38076105e-03   3.72296044e-02   2.74216809e-02\n",
      "   -2.91998289e-02  -8.13226795e-02   2.61286438e-02  -8.00403813e-02\n",
      "   -5.88372615e-03  -1.88173920e-02   2.22536593e-02   2.31666818e-02\n",
      "    3.85734026e-02  -2.49698670e-02  -3.06618961e-03   5.76052861e-03\n",
      "   -3.83429450e-02  -2.24151863e-02  -5.89377203e-05   5.69359874e-03\n",
      "   -1.09190859e-02   5.87948693e-03   2.15345355e-02   4.51934992e-02\n",
      "    9.81577277e-03   2.54343392e-02  -1.02042661e-02  -5.95661096e-02\n",
      "   -2.25124560e-02  -1.82887132e-01  -2.23061034e-02   4.36807419e-02\n",
      "    6.80712327e-03   4.80406946e-03  -1.32619394e-02   3.09295505e-03\n",
      "   -4.63859943e-02   6.08136202e-03  -1.03865776e-02  -6.17800922e-03\n",
      "    5.15496358e-02  -4.73079843e-02   1.76606930e-02]]\n",
      "[-2.31635622]\n",
      "\n",
      " Accuracy scores:\n",
      "[ 0.85198833  0.84922463  0.85795455  0.86025799  0.85731838]\n",
      "\n",
      " Average score:\n",
      "0.855348774737\n"
     ]
    }
   ],
   "source": [
    "# Declare and fit the model.\n",
    "lr = LogisticRegression(C=1e9)\n",
    "\n",
    "# Fit the model.\n",
    "fit = lr.fit(X, y)\n",
    "print('Coefficients')\n",
    "print(fit.coef_)\n",
    "print(fit.intercept_)\n",
    "\n",
    "# Cross-validate.\n",
    "score = cross_val_score(lr, X, y, cv=5)\n",
    "\n",
    "print('\\n Accuracy scores:')\n",
    "print(score)\n",
    "print('\\n Average score:')\n",
    "print(sum(score)/5)"
   ]
  },
  {
   "cell_type": "markdown",
   "metadata": {},
   "source": [
    "### Ridge Logistic Regression"
   ]
  },
  {
   "cell_type": "code",
   "execution_count": 15,
   "metadata": {},
   "outputs": [
    {
     "name": "stdout",
     "output_type": "stream",
     "text": [
      "Coefficients\n",
      "[[  2.23054292e-01   6.12662027e-02   2.43673439e-01   9.71490646e+00\n",
      "    3.18911421e+00   2.43304896e-01   4.17242610e-02  -2.32059992e-02\n",
      "   -4.61257751e+00   1.40563788e-02  -3.92798094e-02   7.91889719e-02\n",
      "   -2.35832671e-02  -8.66844385e-04   4.01198147e-02   6.30734840e-02\n",
      "   -8.05509199e-02  -3.68842541e-02  -2.87848100e-02   1.40563788e-02\n",
      "   -4.89629456e-02  -6.19598325e-02  -1.90565840e-02  -1.94809743e-02\n",
      "   -3.48208127e-02  -6.64138111e-02  -3.92506270e-02  -2.15438968e-02\n",
      "   -7.71593178e-03   1.03112850e-01   1.40491365e-01  -1.07342258e-01\n",
      "    1.30724008e-01  -2.86503877e-02   1.48835388e-01  -1.18056271e-02\n",
      "    1.40563788e-02  -8.23987128e-02   2.52380417e-02   2.52075179e-01\n",
      "   -1.10663410e-02  -1.80348621e-01  -5.37268508e-02  -2.13644475e-02\n",
      "    1.40563788e-02  -3.92644991e-02  -2.01828197e-02  -1.24281518e-02\n",
      "   -3.68695251e-02   2.01245837e-01  -1.39147309e-01  -9.33197132e-02\n",
      "   -7.69577898e-02  -9.31664669e-02  -1.50598319e-02   9.33547572e-02\n",
      "    4.78167073e-02   4.77121920e-02   6.24059246e-02  -5.53939342e-02\n",
      "    1.40563788e-02   1.82265722e-01  -1.61654609e-01  -4.18932699e-02\n",
      "   -8.52174806e-02  -9.94399235e-02   2.28248526e-01   1.40563788e-02\n",
      "   -2.85413483e-02   1.67341937e-02  -1.30909944e-02  -1.40139773e-02\n",
      "    1.11700801e-02   1.40563788e-02  -7.51977210e-02   7.28452268e-02\n",
      "    1.40563788e-02  -1.97126934e-02   2.37196576e-02   1.01296454e-02\n",
      "   -2.08623328e-02  -3.40433895e-02   8.47612664e-03  -2.35131234e-02\n",
      "   -3.15839227e-03   3.15373495e-03   1.15762202e-02   1.35999648e-02\n",
      "    2.60854704e-02  -3.04644376e-02   1.04352470e-02   4.86131458e-03\n",
      "   -1.71465677e-02  -1.06626747e-03  -1.18335357e-03   5.62877817e-03\n",
      "   -5.31645679e-03   3.18200459e-03   1.08517382e-02   2.58165113e-02\n",
      "    6.90468579e-03   2.43594148e-02  -7.78720733e-03  -3.00854132e-02\n",
      "   -1.24884816e-02  -2.14145828e-02  -1.07871195e-02   2.25012258e-02\n",
      "   -4.23729780e-03  -6.18491040e-03  -1.86980005e-02  -4.76498206e-03\n",
      "   -3.78365555e-02  -1.00097814e-03  -9.44100665e-03  -1.27242820e-02\n",
      "    2.32059992e-02  -2.83375627e-02   7.25856391e-03]]\n",
      "0.0\n",
      "\n",
      " Accuracy scores:\n",
      "[ 0.84477199  0.83617381  0.84551597  0.85810811  0.85286438]\n",
      "\n",
      " Average score:\n",
      "0.847486852536\n"
     ]
    }
   ],
   "source": [
    "# Declare and fit the ridge model.\n",
    "\n",
    "ridge = LogisticRegression(penalty='l2', C=50, fit_intercept=False)\n",
    "\n",
    "fit = ridge.fit(X, y)\n",
    "\n",
    "print('Coefficients')\n",
    "print(fit.coef_)\n",
    "print(fit.intercept_)\n",
    "\n",
    "score = cross_val_score(ridge, X, y, cv=5)\n",
    "\n",
    "print('\\n Accuracy scores:')\n",
    "print(score)\n",
    "print('\\n Average score:')\n",
    "print(sum(score)/5)"
   ]
  },
  {
   "cell_type": "markdown",
   "metadata": {},
   "source": [
    "### Lasso Logistic Regression"
   ]
  },
  {
   "cell_type": "code",
   "execution_count": 16,
   "metadata": {},
   "outputs": [
    {
     "name": "stdout",
     "output_type": "stream",
     "text": [
      "Coefficients\n",
      "[[  2.22954468e-01   6.11877362e-02   4.78347660e-01   9.71305987e+00\n",
      "    3.18833224e+00   2.43211146e-01   4.20716960e-02  -5.97678081e-03\n",
      "   -4.61139751e+00   0.00000000e+00  -4.57083539e-02   6.89710178e-02\n",
      "   -3.82600309e-02  -1.18712187e-03   1.23578024e-02   5.22726002e-02\n",
      "   -9.65615310e-02  -4.85964020e-02  -2.99426431e-02   0.00000000e+00\n",
      "    9.11328633e-03  -1.33255641e-02   5.76565387e-04   3.07654902e-02\n",
      "    2.68821490e-02   6.83663374e-03   1.51291890e-02  -5.38334334e-02\n",
      "   -2.64712426e-02   3.25220450e-03   8.13586222e-02  -6.82548786e-02\n",
      "    5.07796595e-02   2.48562365e-03   9.22027579e-02  -1.37829660e-02\n",
      "    2.10161246e-03  -1.08523540e-01   2.31790557e-02   2.13980378e-01\n",
      "   -1.95877254e-02  -2.16128655e-01  -6.69638006e-02  -3.44271858e-02\n",
      "    7.75911392e-02  -2.09914171e-02   1.52906886e-02  -1.05134651e-02\n",
      "    0.00000000e+00   2.37797450e-01  -1.19957746e-01  -7.09414597e-02\n",
      "   -5.02081250e-02  -5.95961362e-02  -7.44782862e-03   1.30113908e-01\n",
      "    6.32725486e-02   8.26470969e-02   8.08478114e-02  -3.13380865e-02\n",
      "    0.00000000e+00   3.64175753e-01   0.00000000e+00   2.13966864e-02\n",
      "    4.90530604e-02   1.44231098e-02   3.07306682e-01   2.06062303e-02\n",
      "   -3.13108487e-02   1.15126608e-02  -2.15445728e-02  -1.66063219e-02\n",
      "    6.53524208e-04   2.58112536e-02  -3.75572037e-02   1.10157131e-01\n",
      "    6.90719735e-02  -3.10641846e-02   2.16223352e-02   4.83490462e-03\n",
      "   -2.49152427e-02  -3.76514917e-02   3.76580933e-03  -2.74119879e-02\n",
      "   -5.64586188e-03  -1.70297291e-03   6.98097531e-03   1.09670154e-02\n",
      "    2.04278191e-02  -3.29840318e-02   6.52491202e-03   1.61808359e-03\n",
      "   -1.75474334e-02  -2.71780462e-03  -3.26489212e-03   3.84807529e-03\n",
      "   -9.93708311e-03   0.00000000e+00   8.45139691e-03   2.16864640e-02\n",
      "    2.52036764e-03   2.05880554e-02  -9.75541405e-03  -4.20378090e-02\n",
      "   -1.52218453e-02  -2.31271402e-02  -1.33984716e-02   1.58150694e-02\n",
      "   -7.91435175e-03  -9.04739955e-03  -2.37541798e-02  -6.38797354e-03\n",
      "   -4.19887272e-02  -4.30682636e-03  -1.14119486e-02  -1.47572902e-02\n",
      "    1.34373479e-02  -3.21421530e-02   5.30099402e-03]]\n",
      "0.0\n",
      "\n",
      " Accuracy scores:\n",
      "[ 0.84477199  0.83617381  0.84566953  0.86025799  0.8527108 ]\n",
      "\n",
      " Average score:\n",
      "0.847916823249\n"
     ]
    }
   ],
   "source": [
    "# Declare and fit the ridge model.\n",
    "\n",
    "lasso = LogisticRegression(penalty='l1', C=5, fit_intercept=False)\n",
    "\n",
    "fit = lasso.fit(X, y)\n",
    "\n",
    "print('Coefficients')\n",
    "print(fit.coef_)\n",
    "print(fit.intercept_)\n",
    "\n",
    "score = cross_val_score(lasso, X, y, cv=5)\n",
    "\n",
    "print('\\n Accuracy scores:')\n",
    "print(score)\n",
    "print('\\n Average score:')\n",
    "print(sum(score)/5)"
   ]
  },
  {
   "cell_type": "markdown",
   "metadata": {},
   "source": [
    "### Discussion\n",
    "\n",
    "For this classification exercise, three approaches to logistic regression were compared. All three models had accuracy rates consistently around 85%. \n",
    "\n",
    "For this dataset, ridge regression may be the best approach, because it is designed to protect against overfitting. I noticed, however, that some of the coefficients are actually larger in the ridge regression than in the vanilla regression. Why is this the case?\n",
    "\n",
    "Lasso regression eliminates 6 features, so it eliminates some noise from the dataset and prevents potentially meaningless features from contributing to overfitting. "
   ]
  }
 ],
 "metadata": {
  "kernelspec": {
   "display_name": "Python 3",
   "language": "python",
   "name": "python3"
  },
  "language_info": {
   "codemirror_mode": {
    "name": "ipython",
    "version": 3
   },
   "file_extension": ".py",
   "mimetype": "text/x-python",
   "name": "python",
   "nbconvert_exporter": "python",
   "pygments_lexer": "ipython3",
   "version": "3.6.2"
  }
 },
 "nbformat": 4,
 "nbformat_minor": 2
}
