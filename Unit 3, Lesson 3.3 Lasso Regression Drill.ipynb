{
 "cells": [
  {
   "cell_type": "markdown",
   "metadata": {},
   "source": [
    "## Regularization parameter: Ridge and Lasso Regression\n",
    "\n",
    "Create a plot below of how $R^2$ varies across different values of $\\lambda$ for ridge and lasso regression. Use logic and code similar to the ridge regression demonstration above, and base your plot on the X_train2 feature set.\n",
    "\n",
    "Do lasso and ridge yield the same $R^2$ for a given lambda value?\n",
    "\n",
    "Submit your work and discuss the results with your mentor."
   ]
  },
  {
   "cell_type": "code",
   "execution_count": 1,
   "metadata": {
    "collapsed": true,
    "hide_input": false
   },
   "outputs": [],
   "source": [
    "import pandas as pd\n",
    "from matplotlib import pyplot as plt\n",
    "import numpy as np\n",
    "import math\n",
    "import seaborn as sns\n",
    "import sklearn\n",
    "from sklearn import linear_model\n",
    "from sklearn import preprocessing\n",
    "%matplotlib inline\n",
    "sns.set_style('white')"
   ]
  },
  {
   "cell_type": "code",
   "execution_count": 2,
   "metadata": {
    "collapsed": true
   },
   "outputs": [],
   "source": [
    "# Load the data.\n",
    "df = pd.read_csv(\n",
    "    'https://vincentarelbundock.github.io/Rdatasets/csv/ISLR/Default.csv'\n",
    ").iloc[:,1:].dropna()\n",
    "\n",
    "# Recode strings to numeric.\n",
    "df['default'] = np.where(df['default']=='Yes', 1, 0)\n",
    "df['student'] = np.where(df['student']=='Yes', 1, 0)\n",
    "names = df.columns\n",
    "df = pd.DataFrame(preprocessing.scale(df), columns=names)\n",
    "\n",
    "# Define the training and test sizes.\n",
    "trainsize = int(df.shape[0] / 2)\n",
    "df_test = df.iloc[trainsize:, :].copy()\n",
    "df_train = df.iloc[:trainsize, :].copy()\n",
    "\n",
    "Y_train = df_train['income'].values.reshape(-1, 1)\n",
    "X_train = df_train.loc[:, ~(df_train.columns).isin(['income'])]\n",
    "\n",
    "# Make some new features to capture potential quadratic and cubic\n",
    "# relationships between solar radiation and day or temperature.\n",
    "df_train['balance_student'] = df_train['balance'] * df_train['student']\n",
    "df_train['balance_default'] = df_train['balance'] * df_train['default']\n",
    "df_train['student_default'] = df_train['student'] * df_train['default']\n",
    "df_train['balance_sqrt'] = (df_train['balance'] + 100) ** .5\n",
    "df_train['balance2'] = (df_train['balance'] + 100) ** 2\n",
    "df_train['balance3'] = (df_train['balance'] + 100) ** 3\n",
    "\n",
    "X_train2 = df_train.loc[:, ~(df_train.columns).isin(['income'])]\n",
    "\n",
    "# Test the simpler model with smaller coefficients.\n",
    "Y_test = df_test['income'].values.reshape(-1, 1)\n",
    "X_test = df_test.loc[:, ~(df_test.columns).isin(['income'])]\n",
    "\n",
    "# Test the more complex model with larger coefficients.\n",
    "df_test['balance_student'] = df_test['balance'] * df_test['student']\n",
    "df_test['balance_default'] = df_test['balance'] * df_test['default']\n",
    "df_test['student_default'] = df_test['student'] * df_test['default']\n",
    "df_test['balance_sqrt'] = (df_test['balance'] + 100) ** .5\n",
    "df_test['balance2'] = (df_test['balance'] + 100) ** 2\n",
    "df_test['balance3'] = (df_test['balance'] + 100) ** 3\n",
    "X_test2 = df_test.loc[:, ~(df_test.columns).isin(['income'])]\n"
   ]
  },
  {
   "cell_type": "code",
   "execution_count": 3,
   "metadata": {},
   "outputs": [
    {
     "name": "stdout",
     "output_type": "stream",
     "text": [
      "\n",
      "R² for the model with many features:\n",
      "0.443633767129\n"
     ]
    }
   ],
   "source": [
    "#Run the large lasso model.\n",
    "lassBig = linear_model.Lasso(alpha=.35)\n",
    "lassBig.fit(X_train2, Y_train)\n",
    "print('\\nR² for the model with many features:')\n",
    "print(lassBig.score(X_train2, Y_train))\n"
   ]
  },
  {
   "cell_type": "code",
   "execution_count": 4,
   "metadata": {},
   "outputs": [
    {
     "name": "stdout",
     "output_type": "stream",
     "text": [
      "0.573946428961\n"
     ]
    }
   ],
   "source": [
    "# Run the large ridge model.\n",
    "\n",
    "ridgeregrBig = linear_model.Ridge(alpha=10, fit_intercept=False)\n",
    "ridgeregrBig.fit(X_train2, Y_train)\n",
    "print(ridgeregrBig.score(X_train2, Y_train))\n"
   ]
  },
  {
   "cell_type": "markdown",
   "metadata": {},
   "source": [
    "Now we will run both Ridge and Lasso models for the same datasets, and store the resulting R2 for a set of regularization parameters in the range 0.1 to 10.6. \n",
    "\n",
    "**CODING QUESTION: Why does the list R2_lasso need to be populated by np.append(lassBig.score(X_train2, Y_train), [0.35]) outside of the loop? (These are the R2 and lambda values from lass.Big above.) I did this following the model in the Ridge lesson, but I don't understand why it is necessary."
   ]
  },
  {
   "cell_type": "code",
   "execution_count": 5,
   "metadata": {},
   "outputs": [
    {
     "name": "stderr",
     "output_type": "stream",
     "text": [
      "/Users/teresaoneill/anaconda3/lib/python3.6/site-packages/sklearn/linear_model/coordinate_descent.py:491: ConvergenceWarning: Objective did not converge. You might want to increase the number of iterations. Fitting data with very small alpha may cause precision problems.\n",
      "  ConvergenceWarning)\n"
     ]
    },
    {
     "name": "stdout",
     "output_type": "stream",
     "text": [
      "    Ridge R2  lambda  Lasso R2\n",
      "0   0.573972     0.1  0.563572\n",
      "1   0.573971     0.6  0.210159\n",
      "2   0.573968     1.1  0.004601\n",
      "3   0.573966     1.6  0.004457\n",
      "4   0.573963     2.1  0.004311\n",
      "5   0.573961     2.6  0.004166\n",
      "6   0.573960     3.1  0.004019\n",
      "7   0.573958     3.6  0.003873\n",
      "8   0.573957     4.1  0.003726\n",
      "9   0.573955     4.6  0.003578\n",
      "10  0.573954     5.1  0.003430\n",
      "11  0.573953     5.6  0.003282\n",
      "12  0.573952     6.1  0.003133\n",
      "13  0.573951     6.6  0.002983\n",
      "14  0.573951     7.1  0.002833\n",
      "15  0.573950     7.6  0.002683\n",
      "16  0.573949     8.1  0.002532\n",
      "17  0.573948     8.6  0.002381\n",
      "18  0.573948     9.1  0.002229\n",
      "19  0.573947     9.6  0.002077\n",
      "20  0.573946    10.1  0.001925\n"
     ]
    },
    {
     "data": {
      "image/png": "[encoded data removed]",
      "text/plain": [
       "<matplotlib.figure.Figure at 0x1a11b0f390>"
      ]
     },
     "metadata": {},
     "output_type": "display_data"
    }
   ],
   "source": [
    "# Your code here\n",
    "\n",
    "# Store Lasso estimates.\n",
    "R2_lasso = []\n",
    "R2_lasso = np.append(lassBig.score(X_train2, Y_train), [.35])\n",
    "\n",
    "# Store legend information.\n",
    "labels = []\n",
    "\n",
    "#Run the lasso model for many alphas.\n",
    "for lambd in np.arange(0.1, 10.6, 0.5):\n",
    "    lassBig = linear_model.Lasso(alpha=lambd, fit_intercept=False)\n",
    "    lassBig.fit(X_train2, Y_train)\n",
    "    R2_lasso = np.row_stack((\n",
    "        R2_lasso,\n",
    "        np.append(lassBig.score(X_train2, Y_train),[lambd])))\n",
    "\n",
    "R2_ridge = []\n",
    "R2_ridge = np.append(ridgeregrBig.score(X_train2, Y_train), [10])\n",
    "\n",
    "#Run the ridge model for many alphas.\n",
    "for lambd in np.arange(0.1, 10.6, 0.5):\n",
    "    ridgeregrBig = linear_model.Ridge(alpha=lambd, fit_intercept=False)\n",
    "    ridgeregrBig.fit(X_train2, Y_train)\n",
    "    R2_ridge = np.row_stack((\n",
    "        R2_ridge,\n",
    "        np.append(ridgeregrBig.score(X_train2, Y_train),[lambd])))\n",
    "\n",
    "# Make the data pretty.\n",
    "R2_df_lasso = pd.DataFrame(\n",
    "    R2_lasso, \n",
    "    columns=list(['Lasso R2']) + ['lambda'])\n",
    "\n",
    "R2_df_ridge = pd.DataFrame(\n",
    "    R2_ridge, \n",
    "    columns=list(['Ridge R2']) + ['lambda'])\n",
    "R2_df_ridge.sort_values(by='lambda', inplace=True, ascending=True)\n",
    "\n",
    "#Merge the lasso and ridge R2 values into one dataframe.\n",
    "R2_df = pd.merge(R2_df_ridge, R2_df_lasso, on='lambda')\n",
    "R2_df.sort_values(by='lambda', inplace=True, ascending=True)\n",
    "\n",
    "#Take a look at the results.\n",
    "print(R2_df)\n",
    "\n",
    "# Plot a line for each parameter.\n",
    "varstoplot = list(R2_df[['Ridge R2', 'Lasso R2']])\n",
    "\n",
    "for var in varstoplot:\n",
    "    plt.plot(R2_df['lambda'], R2_df[var])\n",
    "    labels.append(var)\n",
    "plt.xlabel('lambda')\n",
    "plt.ylabel('R2')\n",
    "plt.legend(labels)\n",
    "plt.show()"
   ]
  },
  {
   "cell_type": "markdown",
   "metadata": {},
   "source": [
    "## Discussion\n",
    "\n",
    "The dataframe and plots above show that the R2 value decreases only very slightly as the regularization parameter is increased in ridge regression. On the other hand, in Lasso regression, R2 plummets when the parameter increases. \n",
    "\n",
    "Penalizing large coefficients in Ridge regression protects the model from overfitting due to correlated features, where small changes in the features could give unduly variable outputs. Reducing the feature space through Lasso regression is useful for eliminating noise and meaningless features, but in a small feature space such as the credit card dataset modeled above, pushing coefficients to zero when there are so few features leaves the model without anything to work with: hence the sharp drop in R2 values."
   ]
  },
  {
   "cell_type": "code",
   "execution_count": null,
   "metadata": {
    "collapsed": true
   },
   "outputs": [],
   "source": []
  }
 ],
 "metadata": {
  "hide_input": false,
  "kernelspec": {
   "display_name": "Python 3",
   "language": "python",
   "name": "python3"
  },
  "language_info": {
   "codemirror_mode": {
    "name": "ipython",
    "version": 3
   },
   "file_extension": ".py",
   "mimetype": "text/x-python",
   "name": "python",
   "nbconvert_exporter": "python",
   "pygments_lexer": "ipython3",
   "version": "3.6.2"
  },
  "toc": {
   "colors": {
    "hover_highlight": "#DAA520",
    "running_highlight": "#FF0000",
    "selected_highlight": "#FFD700"
   },
   "moveMenuLeft": true,
   "nav_menu": {
    "height": "96px",
    "width": "252px"
   },
   "navigate_menu": true,
   "number_sections": true,
   "sideBar": true,
   "threshold": 4,
   "toc_cell": false,
   "toc_section_display": "block",
   "toc_window_display": false
  }
 },
 "nbformat": 4,
 "nbformat_minor": 2
}
